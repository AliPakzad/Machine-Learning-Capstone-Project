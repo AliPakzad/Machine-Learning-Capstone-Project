{
 "cells": [
  {
   "cell_type": "markdown",
   "metadata": {},
   "source": [
    "# Machine Learning Capstone Project (OKCupid-Date-A-Scientist)"
   ]
  },
  {
   "cell_type": "markdown",
   "metadata": {},
   "source": [
    "# Introduction\n",
    "\n",
    "In recent years, there has been a massive rise in the usage of dating apps to find love. Many of these apps use sophisticated data science techniques to recommend possible matches to users and to optimize the user experience. These apps give us access to a wealth of information that we've never had before about how different people experience romance.\n",
    "\n",
    "In this capstone project, I will analyze some data from OKCupid, an app that focuses on using multiple choice and short answers to match users.\n",
    "\n",
    "\n",
    "**Data sources:**\n",
    "\n",
    "`profiles.csv` was provided by Codecademy.com."
   ]
  },
  {
   "cell_type": "markdown",
   "metadata": {},
   "source": [
    "## Import Python Modules\n",
    "\n",
    "First we import the modules that will be used in this project:"
   ]
  },
  {
   "cell_type": "code",
   "execution_count": 1,
   "metadata": {},
   "outputs": [],
   "source": [
    "import pandas as pd\n",
    "import numpy as np\n",
    "from matplotlib import pyplot as plt\n",
    "import seaborn as sns\n",
    "import time \n",
    "import re\n",
    "import warnings\n",
    "warnings.filterwarnings('ignore')\n",
    "\n",
    "%matplotlib inline"
   ]
  },
  {
   "cell_type": "code",
   "execution_count": 5,
   "metadata": {},
   "outputs": [],
   "source": [
    "from sklearn.neighbors import KNeighborsClassifier\n",
    "from sklearn.naive_bayes import MultinomialNB, GaussianNB\n",
    "from sklearn.linear_model import LogisticRegression, LinearRegression\n",
    "from sklearn.tree import DecisionTreeClassifier\n",
    "from sklearn.svm import SVC\n",
    "\n",
    "from sklearn.preprocessing import MinMaxScaler, StandardScaler\n",
    "\n",
    "from sklearn.model_selection import train_test_split\n",
    "from sklearn.model_selection import GridSearchCV\n",
    "from sklearn.metrics import classification_report, mean_squared_error, mean_absolute_error"
   ]
  },
  {
   "cell_type": "markdown",
   "metadata": {},
   "source": [
    "## Loading the Data"
   ]
  },
  {
   "cell_type": "markdown",
   "metadata": {},
   "source": [
    "Now we load the csv into a DataFrame:"
   ]
  },
  {
   "cell_type": "code",
   "execution_count": 3,
   "metadata": {},
   "outputs": [
    {
     "data": {
      "text/html": [
       "<div>\n",
       "<style scoped>\n",
       "    .dataframe tbody tr th:only-of-type {\n",
       "        vertical-align: middle;\n",
       "    }\n",
       "\n",
       "    .dataframe tbody tr th {\n",
       "        vertical-align: top;\n",
       "    }\n",
       "\n",
       "    .dataframe thead th {\n",
       "        text-align: right;\n",
       "    }\n",
       "</style>\n",
       "<table border=\"1\" class=\"dataframe\">\n",
       "  <thead>\n",
       "    <tr style=\"text-align: right;\">\n",
       "      <th></th>\n",
       "      <th>age</th>\n",
       "      <th>body_type</th>\n",
       "      <th>diet</th>\n",
       "      <th>drinks</th>\n",
       "      <th>drugs</th>\n",
       "      <th>education</th>\n",
       "      <th>essay0</th>\n",
       "      <th>essay1</th>\n",
       "      <th>essay2</th>\n",
       "      <th>essay3</th>\n",
       "      <th>...</th>\n",
       "      <th>location</th>\n",
       "      <th>offspring</th>\n",
       "      <th>orientation</th>\n",
       "      <th>pets</th>\n",
       "      <th>religion</th>\n",
       "      <th>sex</th>\n",
       "      <th>sign</th>\n",
       "      <th>smokes</th>\n",
       "      <th>speaks</th>\n",
       "      <th>status</th>\n",
       "    </tr>\n",
       "  </thead>\n",
       "  <tbody>\n",
       "    <tr>\n",
       "      <th>0</th>\n",
       "      <td>22</td>\n",
       "      <td>a little extra</td>\n",
       "      <td>strictly anything</td>\n",
       "      <td>socially</td>\n",
       "      <td>never</td>\n",
       "      <td>working on college/university</td>\n",
       "      <td>about me:&lt;br /&gt;\\n&lt;br /&gt;\\ni would love to think...</td>\n",
       "      <td>currently working as an international agent fo...</td>\n",
       "      <td>making people laugh.&lt;br /&gt;\\nranting about a go...</td>\n",
       "      <td>the way i look. i am a six foot half asian, ha...</td>\n",
       "      <td>...</td>\n",
       "      <td>south san francisco, california</td>\n",
       "      <td>doesn&amp;rsquo;t have kids, but might want them</td>\n",
       "      <td>straight</td>\n",
       "      <td>likes dogs and likes cats</td>\n",
       "      <td>agnosticism and very serious about it</td>\n",
       "      <td>m</td>\n",
       "      <td>gemini</td>\n",
       "      <td>sometimes</td>\n",
       "      <td>english</td>\n",
       "      <td>single</td>\n",
       "    </tr>\n",
       "    <tr>\n",
       "      <th>1</th>\n",
       "      <td>35</td>\n",
       "      <td>average</td>\n",
       "      <td>mostly other</td>\n",
       "      <td>often</td>\n",
       "      <td>sometimes</td>\n",
       "      <td>working on space camp</td>\n",
       "      <td>i am a chef: this is what that means.&lt;br /&gt;\\n1...</td>\n",
       "      <td>dedicating everyday to being an unbelievable b...</td>\n",
       "      <td>being silly. having ridiculous amonts of fun w...</td>\n",
       "      <td>NaN</td>\n",
       "      <td>...</td>\n",
       "      <td>oakland, california</td>\n",
       "      <td>doesn&amp;rsquo;t have kids, but might want them</td>\n",
       "      <td>straight</td>\n",
       "      <td>likes dogs and likes cats</td>\n",
       "      <td>agnosticism but not too serious about it</td>\n",
       "      <td>m</td>\n",
       "      <td>cancer</td>\n",
       "      <td>no</td>\n",
       "      <td>english (fluently), spanish (poorly), french (...</td>\n",
       "      <td>single</td>\n",
       "    </tr>\n",
       "    <tr>\n",
       "      <th>2</th>\n",
       "      <td>38</td>\n",
       "      <td>thin</td>\n",
       "      <td>anything</td>\n",
       "      <td>socially</td>\n",
       "      <td>NaN</td>\n",
       "      <td>graduated from masters program</td>\n",
       "      <td>i'm not ashamed of much, but writing public te...</td>\n",
       "      <td>i make nerdy software for musicians, artists, ...</td>\n",
       "      <td>improvising in different contexts. alternating...</td>\n",
       "      <td>my large jaw and large glasses are the physica...</td>\n",
       "      <td>...</td>\n",
       "      <td>san francisco, california</td>\n",
       "      <td>NaN</td>\n",
       "      <td>straight</td>\n",
       "      <td>has cats</td>\n",
       "      <td>NaN</td>\n",
       "      <td>m</td>\n",
       "      <td>pisces but it doesn&amp;rsquo;t matter</td>\n",
       "      <td>no</td>\n",
       "      <td>english, french, c++</td>\n",
       "      <td>available</td>\n",
       "    </tr>\n",
       "    <tr>\n",
       "      <th>3</th>\n",
       "      <td>23</td>\n",
       "      <td>thin</td>\n",
       "      <td>vegetarian</td>\n",
       "      <td>socially</td>\n",
       "      <td>NaN</td>\n",
       "      <td>working on college/university</td>\n",
       "      <td>i work in a library and go to school. . .</td>\n",
       "      <td>reading things written by old dead people</td>\n",
       "      <td>playing synthesizers and organizing books acco...</td>\n",
       "      <td>socially awkward but i do my best</td>\n",
       "      <td>...</td>\n",
       "      <td>berkeley, california</td>\n",
       "      <td>doesn&amp;rsquo;t want kids</td>\n",
       "      <td>straight</td>\n",
       "      <td>likes cats</td>\n",
       "      <td>NaN</td>\n",
       "      <td>m</td>\n",
       "      <td>pisces</td>\n",
       "      <td>no</td>\n",
       "      <td>english, german (poorly)</td>\n",
       "      <td>single</td>\n",
       "    </tr>\n",
       "    <tr>\n",
       "      <th>4</th>\n",
       "      <td>29</td>\n",
       "      <td>athletic</td>\n",
       "      <td>NaN</td>\n",
       "      <td>socially</td>\n",
       "      <td>never</td>\n",
       "      <td>graduated from college/university</td>\n",
       "      <td>hey how's it going? currently vague on the pro...</td>\n",
       "      <td>work work work work + play</td>\n",
       "      <td>creating imagery to look at:&lt;br /&gt;\\nhttp://bag...</td>\n",
       "      <td>i smile a lot and my inquisitive nature</td>\n",
       "      <td>...</td>\n",
       "      <td>san francisco, california</td>\n",
       "      <td>NaN</td>\n",
       "      <td>straight</td>\n",
       "      <td>likes dogs and likes cats</td>\n",
       "      <td>NaN</td>\n",
       "      <td>m</td>\n",
       "      <td>aquarius</td>\n",
       "      <td>no</td>\n",
       "      <td>english</td>\n",
       "      <td>single</td>\n",
       "    </tr>\n",
       "  </tbody>\n",
       "</table>\n",
       "<p>5 rows × 31 columns</p>\n",
       "</div>"
      ],
      "text/plain": [
       "   age       body_type               diet    drinks      drugs  \\\n",
       "0   22  a little extra  strictly anything  socially      never   \n",
       "1   35         average       mostly other     often  sometimes   \n",
       "2   38            thin           anything  socially        NaN   \n",
       "3   23            thin         vegetarian  socially        NaN   \n",
       "4   29        athletic                NaN  socially      never   \n",
       "\n",
       "                           education  \\\n",
       "0      working on college/university   \n",
       "1              working on space camp   \n",
       "2     graduated from masters program   \n",
       "3      working on college/university   \n",
       "4  graduated from college/university   \n",
       "\n",
       "                                              essay0  \\\n",
       "0  about me:<br />\\n<br />\\ni would love to think...   \n",
       "1  i am a chef: this is what that means.<br />\\n1...   \n",
       "2  i'm not ashamed of much, but writing public te...   \n",
       "3          i work in a library and go to school. . .   \n",
       "4  hey how's it going? currently vague on the pro...   \n",
       "\n",
       "                                              essay1  \\\n",
       "0  currently working as an international agent fo...   \n",
       "1  dedicating everyday to being an unbelievable b...   \n",
       "2  i make nerdy software for musicians, artists, ...   \n",
       "3          reading things written by old dead people   \n",
       "4                         work work work work + play   \n",
       "\n",
       "                                              essay2  \\\n",
       "0  making people laugh.<br />\\nranting about a go...   \n",
       "1  being silly. having ridiculous amonts of fun w...   \n",
       "2  improvising in different contexts. alternating...   \n",
       "3  playing synthesizers and organizing books acco...   \n",
       "4  creating imagery to look at:<br />\\nhttp://bag...   \n",
       "\n",
       "                                              essay3  ...  \\\n",
       "0  the way i look. i am a six foot half asian, ha...  ...   \n",
       "1                                                NaN  ...   \n",
       "2  my large jaw and large glasses are the physica...  ...   \n",
       "3                  socially awkward but i do my best  ...   \n",
       "4            i smile a lot and my inquisitive nature  ...   \n",
       "\n",
       "                          location  \\\n",
       "0  south san francisco, california   \n",
       "1              oakland, california   \n",
       "2        san francisco, california   \n",
       "3             berkeley, california   \n",
       "4        san francisco, california   \n",
       "\n",
       "                                      offspring orientation  \\\n",
       "0  doesn&rsquo;t have kids, but might want them    straight   \n",
       "1  doesn&rsquo;t have kids, but might want them    straight   \n",
       "2                                           NaN    straight   \n",
       "3                       doesn&rsquo;t want kids    straight   \n",
       "4                                           NaN    straight   \n",
       "\n",
       "                        pets                                  religion sex  \\\n",
       "0  likes dogs and likes cats     agnosticism and very serious about it   m   \n",
       "1  likes dogs and likes cats  agnosticism but not too serious about it   m   \n",
       "2                   has cats                                       NaN   m   \n",
       "3                 likes cats                                       NaN   m   \n",
       "4  likes dogs and likes cats                                       NaN   m   \n",
       "\n",
       "                                 sign     smokes  \\\n",
       "0                              gemini  sometimes   \n",
       "1                              cancer         no   \n",
       "2  pisces but it doesn&rsquo;t matter         no   \n",
       "3                              pisces         no   \n",
       "4                            aquarius         no   \n",
       "\n",
       "                                              speaks     status  \n",
       "0                                            english     single  \n",
       "1  english (fluently), spanish (poorly), french (...     single  \n",
       "2                               english, french, c++  available  \n",
       "3                           english, german (poorly)     single  \n",
       "4                                            english     single  \n",
       "\n",
       "[5 rows x 31 columns]"
      ]
     },
     "execution_count": 3,
     "metadata": {},
     "output_type": "execute_result"
    }
   ],
   "source": [
    "df = pd.read_csv(\"profiles.csv\")\n",
    "\n",
    "df.head()"
   ]
  },
  {
   "cell_type": "code",
   "execution_count": 4,
   "metadata": {},
   "outputs": [
    {
     "data": {
      "text/plain": [
       "0                 transportation\n",
       "1           hospitality / travel\n",
       "2                            NaN\n",
       "3                        student\n",
       "4    artistic / musical / writer\n",
       "Name: job, dtype: object"
      ]
     },
     "execution_count": 4,
     "metadata": {},
     "output_type": "execute_result"
    }
   ],
   "source": [
    "df.job.head()"
   ]
  },
  {
   "cell_type": "code",
   "execution_count": 29,
   "metadata": {},
   "outputs": [
    {
     "data": {
      "text/plain": [
       "(59946, 31)"
      ]
     },
     "execution_count": 29,
     "metadata": {},
     "output_type": "execute_result"
    }
   ],
   "source": [
    "df.shape"
   ]
  },
  {
   "cell_type": "markdown",
   "metadata": {},
   "source": [
    "This dataset has 59946 rows and 31 columns."
   ]
  },
  {
   "cell_type": "markdown",
   "metadata": {},
   "source": [
    "The dataset provided has the following columns of multiple-choice data:\n",
    "\n",
    "- body_type\n",
    "- diet\n",
    "- drinks\n",
    "- drugs\n",
    "- education\n",
    "- ethnicity\n",
    "- height\n",
    "- income\n",
    "- job\n",
    "- offspring\n",
    "- orientation\n",
    "- pets\n",
    "- religion\n",
    "- sex\n",
    "- sign\n",
    "- smokes\n",
    "- speaks\n",
    "- status\n",
    "\n",
    "And a set of open short-answer responses to :\n",
    "\n",
    "- essay0 - My self summary\n",
    "- essay1 - What I’m doing with my life\n",
    "- essay2 - I’m really good at\n",
    "- essay3 - The first thing people usually notice about me\n",
    "- essay4 - Favorite books, movies, show, music, and food\n",
    "- essay5 - The six things I could never do without\n",
    "- essay6 - I spend a lot of time thinking about\n",
    "- essay7 - On a typical Friday night I am\n",
    "- essay8 - The most private thing I am willing to admit\n",
    "- essay9 - You should message me if…"
   ]
  },
  {
   "cell_type": "markdown",
   "metadata": {},
   "source": [
    "## Explore and Explain Data"
   ]
  },
  {
   "cell_type": "markdown",
   "metadata": {},
   "source": [
    "Now I take a look at some columns and build graphs from the data to get better understanding about our dataset.First of all, I want to know the distribution of ages, height and income of OKCupid's users."
   ]
  },
  {
   "cell_type": "code",
   "execution_count": 7,
   "metadata": {},
   "outputs": [
    {
     "data": {
      "text/html": [
       "<div>\n",
       "<style scoped>\n",
       "    .dataframe tbody tr th:only-of-type {\n",
       "        vertical-align: middle;\n",
       "    }\n",
       "\n",
       "    .dataframe tbody tr th {\n",
       "        vertical-align: top;\n",
       "    }\n",
       "\n",
       "    .dataframe thead th {\n",
       "        text-align: right;\n",
       "    }\n",
       "</style>\n",
       "<table border=\"1\" class=\"dataframe\">\n",
       "  <thead>\n",
       "    <tr style=\"text-align: right;\">\n",
       "      <th></th>\n",
       "      <th>age</th>\n",
       "      <th>height</th>\n",
       "      <th>income</th>\n",
       "    </tr>\n",
       "  </thead>\n",
       "  <tbody>\n",
       "    <tr>\n",
       "      <th>count</th>\n",
       "      <td>59946.000000</td>\n",
       "      <td>59943.000000</td>\n",
       "      <td>59946.000000</td>\n",
       "    </tr>\n",
       "    <tr>\n",
       "      <th>mean</th>\n",
       "      <td>32.340290</td>\n",
       "      <td>68.295281</td>\n",
       "      <td>20033.222534</td>\n",
       "    </tr>\n",
       "    <tr>\n",
       "      <th>std</th>\n",
       "      <td>9.452779</td>\n",
       "      <td>3.994803</td>\n",
       "      <td>97346.192104</td>\n",
       "    </tr>\n",
       "    <tr>\n",
       "      <th>min</th>\n",
       "      <td>18.000000</td>\n",
       "      <td>1.000000</td>\n",
       "      <td>-1.000000</td>\n",
       "    </tr>\n",
       "    <tr>\n",
       "      <th>25%</th>\n",
       "      <td>26.000000</td>\n",
       "      <td>66.000000</td>\n",
       "      <td>-1.000000</td>\n",
       "    </tr>\n",
       "    <tr>\n",
       "      <th>50%</th>\n",
       "      <td>30.000000</td>\n",
       "      <td>68.000000</td>\n",
       "      <td>-1.000000</td>\n",
       "    </tr>\n",
       "    <tr>\n",
       "      <th>75%</th>\n",
       "      <td>37.000000</td>\n",
       "      <td>71.000000</td>\n",
       "      <td>-1.000000</td>\n",
       "    </tr>\n",
       "    <tr>\n",
       "      <th>max</th>\n",
       "      <td>110.000000</td>\n",
       "      <td>95.000000</td>\n",
       "      <td>1000000.000000</td>\n",
       "    </tr>\n",
       "  </tbody>\n",
       "</table>\n",
       "</div>"
      ],
      "text/plain": [
       "                age        height          income\n",
       "count  59946.000000  59943.000000    59946.000000\n",
       "mean      32.340290     68.295281    20033.222534\n",
       "std        9.452779      3.994803    97346.192104\n",
       "min       18.000000      1.000000       -1.000000\n",
       "25%       26.000000     66.000000       -1.000000\n",
       "50%       30.000000     68.000000       -1.000000\n",
       "75%       37.000000     71.000000       -1.000000\n",
       "max      110.000000     95.000000  1000000.000000"
      ]
     },
     "execution_count": 7,
     "metadata": {},
     "output_type": "execute_result"
    }
   ],
   "source": [
    "df.describe()"
   ]
  },
  {
   "cell_type": "markdown",
   "metadata": {},
   "source": [
    "#### Age Distribution"
   ]
  },
  {
   "cell_type": "code",
   "execution_count": 8,
   "metadata": {},
   "outputs": [
    {
     "data": {
      "image/png": "[encoded data removed]",
      "text/plain": [
       "<Figure size 360x360 with 1 Axes>"
      ]
     },
     "metadata": {
      "needs_background": "light"
     },
     "output_type": "display_data"
    }
   ],
   "source": [
    "sns.displot(data=df, x=\"age\", binwidth = 5);\n",
    "\n",
    "plt.xlabel(\"Age\")\n",
    "plt.ylabel(\"Frequency\")\n",
    "plt.xlim(16, 80)\n",
    "plt.show()"
   ]
  },
  {
   "cell_type": "markdown",
   "metadata": {},
   "source": [
    "We can see that most of the users are between 25 to 35 years old.We can also plot the age histogram by splitting the users by gender."
   ]
  },
  {
   "cell_type": "code",
   "execution_count": 24,
   "metadata": {},
   "outputs": [
    {
     "data": {
      "text/plain": [
       "(16.0, 80.0)"
      ]
     },
     "execution_count": 24,
     "metadata": {},
     "output_type": "execute_result"
    },
    {
     "data": {
      "image/png": "[encoded data removed]",
      "text/plain": [
       "<Figure size 405.625x360 with 1 Axes>"
      ]
     },
     "metadata": {
      "needs_background": "light"
     },
     "output_type": "display_data"
    }
   ],
   "source": [
    "sns.displot(data=df, x=\"age\", hue=\"sex\", binwidth = 5, multiple = \"stack\");\n",
    "\n",
    "plt.xlabel(\"Age\")\n",
    "plt.ylabel(\"Frequency\")\n",
    "plt.xlim(16, 80)"
   ]
  },
  {
   "cell_type": "markdown",
   "metadata": {},
   "source": [
    "According to the histogram, the distribution for both genders are the same, but there are more male users than female users."
   ]
  },
  {
   "cell_type": "markdown",
   "metadata": {},
   "source": [
    "#### Height Distribution"
   ]
  },
  {
   "cell_type": "code",
   "execution_count": 8,
   "metadata": {},
   "outputs": [
    {
     "data": {
      "image/png": "[encoded data removed]",
      "text/plain": [
       "<Figure size 360x360 with 1 Axes>"
      ]
     },
     "metadata": {
      "needs_background": "light"
     },
     "output_type": "display_data"
    }
   ],
   "source": [
    "sns.displot(data=df, x=\"height\", binwidth = 2);\n",
    "\n",
    "plt.xlabel(\"Height\")\n",
    "plt.ylabel(\"Frequency\")\n",
    "plt.xlim(50, 85)\n",
    "plt.show()"
   ]
  },
  {
   "cell_type": "code",
   "execution_count": 39,
   "metadata": {},
   "outputs": [
    {
     "data": {
      "image/png": "[encoded data removed]",
      "text/plain": [
       "<Figure size 405.625x360 with 1 Axes>"
      ]
     },
     "metadata": {
      "needs_background": "light"
     },
     "output_type": "display_data"
    }
   ],
   "source": [
    "sns.displot(data=df, x=\"height\", binwidth = 2, hue= 'sex', multiple= 'stack');\n",
    "\n",
    "plt.xlabel(\"Height\")\n",
    "plt.ylabel(\"Frequency\")\n",
    "plt.xlim(50, 85)\n",
    "plt.show()"
   ]
  },
  {
   "cell_type": "markdown",
   "metadata": {},
   "source": [
    "The heights of users has a normal distribution.Heights of most of the users are between 60 and 80.Males are taller than females."
   ]
  },
  {
   "cell_type": "markdown",
   "metadata": {},
   "source": [
    "#### Income Distribution"
   ]
  },
  {
   "cell_type": "code",
   "execution_count": 18,
   "metadata": {},
   "outputs": [
    {
     "data": {
      "image/png": "[encoded data removed]",
      "text/plain": [
       "<Figure size 405.625x360 with 1 Axes>"
      ]
     },
     "metadata": {
      "needs_background": "light"
     },
     "output_type": "display_data"
    }
   ],
   "source": [
    "sns.displot(data=df, x=\"income\",hue=\"sex\", binwidth = 50000, multiple = \"stack\");\n",
    "\n",
    "plt.xlabel(\"Income\")\n",
    "plt.ylabel(\"Frequency\")\n",
    "#plt.xlim(0, 200000)\n",
    "plt.show()"
   ]
  },
  {
   "cell_type": "markdown",
   "metadata": {},
   "source": [
    "Most of users have an income under 200000.Male users have higher income than females"
   ]
  },
  {
   "cell_type": "markdown",
   "metadata": {},
   "source": [
    "### Categorical Variables"
   ]
  },
  {
   "cell_type": "markdown",
   "metadata": {},
   "source": [
    "#### Gender"
   ]
  },
  {
   "cell_type": "code",
   "execution_count": 24,
   "metadata": {},
   "outputs": [
    {
     "data": {
      "image/png": "[encoded data removed]",
      "text/plain": [
       "<Figure size 432x288 with 1 Axes>"
      ]
     },
     "metadata": {
      "needs_background": "light"
     },
     "output_type": "display_data"
    }
   ],
   "source": [
    "sns.countplot(data=df, x=\"sex\");"
   ]
  },
  {
   "cell_type": "markdown",
   "metadata": {},
   "source": [
    "Male users are more than female users."
   ]
  },
  {
   "cell_type": "markdown",
   "metadata": {},
   "source": [
    "#### Body Type"
   ]
  },
  {
   "cell_type": "code",
   "execution_count": 9,
   "metadata": {},
   "outputs": [
    {
     "data": {
      "text/plain": [
       "average           14652\n",
       "fit               12711\n",
       "athletic          11819\n",
       "NaN                5296\n",
       "thin               4711\n",
       "curvy              3924\n",
       "a little extra     2629\n",
       "skinny             1777\n",
       "full figured       1009\n",
       "overweight          444\n",
       "jacked              421\n",
       "used up             355\n",
       "rather not say      198\n",
       "Name: body_type, dtype: int64"
      ]
     },
     "execution_count": 9,
     "metadata": {},
     "output_type": "execute_result"
    }
   ],
   "source": [
    "df.body_type.value_counts(dropna=False)"
   ]
  },
  {
   "cell_type": "code",
   "execution_count": 36,
   "metadata": {},
   "outputs": [
    {
     "data": {
      "image/png": "[encoded data removed]",
      "text/plain": [
       "<Figure size 576x432 with 1 Axes>"
      ]
     },
     "metadata": {
      "needs_background": "light"
     },
     "output_type": "display_data"
    }
   ],
   "source": [
    "#changing the size of the plot\n",
    "plt.figure(figsize=(8,6))\n",
    "\n",
    "sns.countplot(data=df, y=\"body_type\");\n"
   ]
  },
  {
   "cell_type": "markdown",
   "metadata": {},
   "source": [
    "Most of the users declared their body type as average, fit, or athletic."
   ]
  },
  {
   "cell_type": "code",
   "execution_count": 37,
   "metadata": {},
   "outputs": [
    {
     "data": {
      "image/png": "[encoded data removed]",
      "text/plain": [
       "<Figure size 576x432 with 1 Axes>"
      ]
     },
     "metadata": {
      "needs_background": "light"
     },
     "output_type": "display_data"
    }
   ],
   "source": [
    "#changing the size of the plot\n",
    "plt.figure(figsize=(8,6))\n",
    "\n",
    "sns.countplot(data=df, y=\"body_type\", hue = 'sex');"
   ]
  },
  {
   "cell_type": "markdown",
   "metadata": {},
   "source": [
    "When we split countplot of body type variable by gender, we can see that most of the females described their body types with following three categories: average, fit or curvy but males described their body types with athletic, average or fit.It seems that curvy and full figured are feminine descriptions and overweight and jacked used mostly by male users."
   ]
  },
  {
   "cell_type": "markdown",
   "metadata": {},
   "source": [
    "#### Diet\n",
    "\n",
    "According to the countplot below, most of the users eat mostly anything, followed by 'anything', 'strongly anything'.The fourth popular diet is 'mostly vegeterian'."
   ]
  },
  {
   "cell_type": "code",
   "execution_count": 6,
   "metadata": {},
   "outputs": [
    {
     "data": {
      "image/png": "[encoded data removed]",
      "text/plain": [
       "<Figure size 576x432 with 1 Axes>"
      ]
     },
     "metadata": {
      "needs_background": "light"
     },
     "output_type": "display_data"
    }
   ],
   "source": [
    "#changing the size of the plot\n",
    "plt.figure(figsize=(8,6))\n",
    "\n",
    "sns.countplot(data=df, y=\"diet\");"
   ]
  },
  {
   "cell_type": "code",
   "execution_count": 7,
   "metadata": {},
   "outputs": [
    {
     "data": {
      "image/png": "[encoded data removed]",
      "text/plain": [
       "<Figure size 576x432 with 1 Axes>"
      ]
     },
     "metadata": {
      "needs_background": "light"
     },
     "output_type": "display_data"
    }
   ],
   "source": [
    "#changing the size of the plot\n",
    "plt.figure(figsize=(8,6))\n",
    "\n",
    "sns.countplot(data=df, y=\"diet\", hue = 'sex');"
   ]
  },
  {
   "cell_type": "markdown",
   "metadata": {},
   "source": [
    "When we split the diet data with gender, women are more likely to be vegetarian."
   ]
  },
  {
   "cell_type": "markdown",
   "metadata": {},
   "source": [
    "#### Drinks\n",
    "\n",
    "According to the plot, the majority of the users drink \"socially\"."
   ]
  },
  {
   "cell_type": "code",
   "execution_count": 8,
   "metadata": {},
   "outputs": [
    {
     "data": {
      "image/png": "[encoded data removed]",
      "text/plain": [
       "<Figure size 576x432 with 1 Axes>"
      ]
     },
     "metadata": {
      "needs_background": "light"
     },
     "output_type": "display_data"
    }
   ],
   "source": [
    "#changing the size of the plot\n",
    "plt.figure(figsize=(8,6))\n",
    "\n",
    "sns.countplot(data=df, y=\"drinks\");"
   ]
  },
  {
   "cell_type": "markdown",
   "metadata": {},
   "source": [
    "#### Drugs"
   ]
  },
  {
   "cell_type": "code",
   "execution_count": 10,
   "metadata": {},
   "outputs": [
    {
     "data": {
      "image/png": "[encoded data removed]",
      "text/plain": [
       "<Figure size 576x432 with 1 Axes>"
      ]
     },
     "metadata": {
      "needs_background": "light"
     },
     "output_type": "display_data"
    }
   ],
   "source": [
    "#changing the size of the plot\n",
    "plt.figure(figsize=(8,6))\n",
    "\n",
    "sns.countplot(data=df, y=\"drugs\");"
   ]
  },
  {
   "cell_type": "markdown",
   "metadata": {},
   "source": [
    "we can see that overwhelming majority of the users never use drugs."
   ]
  },
  {
   "cell_type": "markdown",
   "metadata": {},
   "source": [
    "#### Education\n",
    "\n",
    "According to the chart below, we can see that the majority of users graduated from college/university followed by masters graduates and people who 'working on college/university'."
   ]
  },
  {
   "cell_type": "code",
   "execution_count": 12,
   "metadata": {},
   "outputs": [
    {
     "data": {
      "image/png": "[encoded data removed]",
      "text/plain": [
       "<Figure size 576x432 with 1 Axes>"
      ]
     },
     "metadata": {
      "needs_background": "light"
     },
     "output_type": "display_data"
    }
   ],
   "source": [
    "#changing the size of the plot\n",
    "plt.figure(figsize=(8,6))\n",
    "\n",
    "sns.countplot(data=df, y=\"education\");"
   ]
  },
  {
   "cell_type": "markdown",
   "metadata": {},
   "source": [
    "#### Job"
   ]
  },
  {
   "cell_type": "code",
   "execution_count": 17,
   "metadata": {},
   "outputs": [
    {
     "data": {
      "image/png": "[encoded data removed]",
      "text/plain": [
       "<Figure size 576x432 with 1 Axes>"
      ]
     },
     "metadata": {
      "needs_background": "light"
     },
     "output_type": "display_data"
    }
   ],
   "source": [
    "#changing the size of the plot\n",
    "plt.figure(figsize=(8,6))\n",
    "\n",
    "sns.countplot(data=df, y=\"job\");\n"
   ]
  },
  {
   "cell_type": "markdown",
   "metadata": {},
   "source": [
    "As we can see on the graph, most of users declared their job as 'other'.By calling 'value_counts' function on job column we can see exact number of each job that were declared by users.Students, technicians, computer specialists, artists and those who works in business make up the majority of OKCupid users with roughly the equal percentage of users. "
   ]
  },
  {
   "cell_type": "code",
   "execution_count": 23,
   "metadata": {},
   "outputs": [
    {
     "data": {
      "text/plain": [
       "other                                7589\n",
       "student                              4882\n",
       "science / tech / engineering         4848\n",
       "computer / hardware / software       4709\n",
       "artistic / musical / writer          4439\n",
       "sales / marketing / biz dev          4391\n",
       "medicine / health                    3680\n",
       "education / academia                 3513\n",
       "executive / management               2373\n",
       "banking / financial / real estate    2266\n",
       "entertainment / media                2250\n",
       "law / legal services                 1381\n",
       "hospitality / travel                 1364\n",
       "construction / craftsmanship         1021\n",
       "clerical / administrative             805\n",
       "political / government                708\n",
       "rather not say                        436\n",
       "transportation                        366\n",
       "unemployed                            273\n",
       "retired                               250\n",
       "military                              204\n",
       "Name: job, dtype: int64"
      ]
     },
     "execution_count": 23,
     "metadata": {},
     "output_type": "execute_result"
    }
   ],
   "source": [
    "df.job.value_counts()"
   ]
  },
  {
   "cell_type": "markdown",
   "metadata": {},
   "source": [
    "#### Offspring\n",
    "The chart below shows that most of the users do not have kids."
   ]
  },
  {
   "cell_type": "code",
   "execution_count": 25,
   "metadata": {},
   "outputs": [
    {
     "data": {
      "image/png": "[encoded data removed]",
      "text/plain": [
       "<Figure size 576x432 with 1 Axes>"
      ]
     },
     "metadata": {
      "needs_background": "light"
     },
     "output_type": "display_data"
    }
   ],
   "source": [
    "#changing the size of the plot\n",
    "plt.figure(figsize=(8,6))\n",
    "\n",
    "sns.countplot(data=df, y=\"offspring\");\n"
   ]
  },
  {
   "cell_type": "markdown",
   "metadata": {},
   "source": [
    "#### Orientation"
   ]
  },
  {
   "cell_type": "markdown",
   "metadata": {},
   "source": [
    "According to the chart below, as far as sexual orientation is concerned, the majority of the users are straight."
   ]
  },
  {
   "cell_type": "code",
   "execution_count": 10,
   "metadata": {},
   "outputs": [
    {
     "data": {
      "image/png": "[encoded data removed]",
      "text/plain": [
       "<Figure size 576x432 with 1 Axes>"
      ]
     },
     "metadata": {
      "needs_background": "light"
     },
     "output_type": "display_data"
    }
   ],
   "source": [
    "#changing the size of the plot\n",
    "plt.figure(figsize=(8,6))\n",
    "\n",
    "sns.countplot(data=df, y=\"orientation\");\n"
   ]
  },
  {
   "cell_type": "markdown",
   "metadata": {},
   "source": [
    "#### pets\n",
    "\n",
    "As we can see in the graph, most users like both dogs and cats."
   ]
  },
  {
   "cell_type": "code",
   "execution_count": 12,
   "metadata": {},
   "outputs": [
    {
     "data": {
      "image/png": "[encoded data removed]",
      "text/plain": [
       "<Figure size 576x432 with 1 Axes>"
      ]
     },
     "metadata": {
      "needs_background": "light"
     },
     "output_type": "display_data"
    }
   ],
   "source": [
    "#changing the size of the plot\n",
    "plt.figure(figsize=(8,6))\n",
    "\n",
    "sns.countplot(data=df, y=\"pets\");\n"
   ]
  },
  {
   "cell_type": "markdown",
   "metadata": {},
   "source": [
    "#### Religion\n",
    "\n",
    "By looking at the countplot of users' religion and calling value_counts function on this column, we find out that we can reduce the number of categories."
   ]
  },
  {
   "cell_type": "code",
   "execution_count": 30,
   "metadata": {},
   "outputs": [
    {
     "data": {
      "image/png": "[encoded data removed]",
      "text/plain": [
       "<Figure size 576x432 with 1 Axes>"
      ]
     },
     "metadata": {
      "needs_background": "light"
     },
     "output_type": "display_data"
    }
   ],
   "source": [
    "#changing the size of the plot\n",
    "plt.figure(figsize=(8,6))\n",
    "\n",
    "sns.countplot(data=df, y=\"religion\");\n"
   ]
  },
  {
   "cell_type": "code",
   "execution_count": 24,
   "metadata": {},
   "outputs": [
    {
     "data": {
      "text/plain": [
       "NaN                                           20226\n",
       "agnosticism                                    2724\n",
       "other                                          2691\n",
       "agnosticism but not too serious about it       2636\n",
       "agnosticism and laughing about it              2496\n",
       "catholicism but not too serious about it       2318\n",
       "atheism                                        2175\n",
       "other and laughing about it                    2119\n",
       "atheism and laughing about it                  2074\n",
       "christianity                                   1957\n",
       "christianity but not too serious about it      1952\n",
       "other but not too serious about it             1554\n",
       "judaism but not too serious about it           1517\n",
       "atheism but not too serious about it           1318\n",
       "catholicism                                    1064\n",
       "christianity and somewhat serious about it      927\n",
       "atheism and somewhat serious about it           848\n",
       "other and somewhat serious about it             846\n",
       "catholicism and laughing about it               726\n",
       "judaism and laughing about it                   681\n",
       "buddhism but not too serious about it           650\n",
       "agnosticism and somewhat serious about it       642\n",
       "judaism                                         612\n",
       "christianity and very serious about it          578\n",
       "atheism and very serious about it               570\n",
       "catholicism and somewhat serious about it       548\n",
       "other and very serious about it                 533\n",
       "buddhism and laughing about it                  466\n",
       "buddhism                                        403\n",
       "christianity and laughing about it              373\n",
       "buddhism and somewhat serious about it          359\n",
       "agnosticism and very serious about it           314\n",
       "judaism and somewhat serious about it           266\n",
       "hinduism but not too serious about it           227\n",
       "hinduism                                        107\n",
       "catholicism and very serious about it           102\n",
       "buddhism and very serious about it               70\n",
       "hinduism and somewhat serious about it           58\n",
       "islam                                            48\n",
       "hinduism and laughing about it                   44\n",
       "islam but not too serious about it               40\n",
       "islam and somewhat serious about it              22\n",
       "judaism and very serious about it                22\n",
       "islam and laughing about it                      16\n",
       "hinduism and very serious about it               14\n",
       "islam and very serious about it                  13\n",
       "Name: religion, dtype: int64"
      ]
     },
     "execution_count": 24,
     "metadata": {},
     "output_type": "execute_result"
    }
   ],
   "source": [
    "df.religion.value_counts(dropna=False)"
   ]
  },
  {
   "cell_type": "code",
   "execution_count": 9,
   "metadata": {},
   "outputs": [
    {
     "name": "stdout",
     "output_type": "stream",
     "text": [
      "0    agnosticism\n",
      "1    agnosticism\n",
      "2            NaN\n",
      "3            NaN\n",
      "4            NaN\n",
      "Name: religion_cleaned, dtype: object\n"
     ]
    }
   ],
   "source": [
    "df['religion_cleaned'] = df['religion'].str.split().str[0]\n",
    "\n",
    "print(df['religion_cleaned'].head())"
   ]
  },
  {
   "cell_type": "code",
   "execution_count": 6,
   "metadata": {},
   "outputs": [
    {
     "data": {
      "image/png": "[encoded data removed]",
      "text/plain": [
       "<Figure size 576x432 with 1 Axes>"
      ]
     },
     "metadata": {
      "needs_background": "light"
     },
     "output_type": "display_data"
    }
   ],
   "source": [
    "#changing the size of the plot\n",
    "plt.figure(figsize=(8,6))\n",
    "\n",
    "sns.countplot(data=df, y=\"religion_cleaned\");\n"
   ]
  },
  {
   "cell_type": "markdown",
   "metadata": {},
   "source": [
    "The plot shows that most of the users are not religious.The majority of OKCupid's users are agnostic or atheist or did not mention their belief(other).Between religious users, most of them are christian."
   ]
  },
  {
   "cell_type": "markdown",
   "metadata": {},
   "source": [
    "#### sign\n",
    "\n",
    "Like the religion column we need to clean the sign column.We have twelve astrological signs, so we have to clean sign column and reduce the number of categories into twelve."
   ]
  },
  {
   "cell_type": "code",
   "execution_count": 77,
   "metadata": {},
   "outputs": [
    {
     "data": {
      "image/png": "[encoded data removed]",
      "text/plain": [
       "<Figure size 576x432 with 1 Axes>"
      ]
     },
     "metadata": {
      "needs_background": "light"
     },
     "output_type": "display_data"
    }
   ],
   "source": [
    "#changing the size of the plot\n",
    "plt.figure(figsize=(8,6))\n",
    "\n",
    "sns.countplot(data=df, y=\"sign\");\n"
   ]
  },
  {
   "cell_type": "code",
   "execution_count": 10,
   "metadata": {},
   "outputs": [
    {
     "data": {
      "image/png": "[encoded data removed]",
      "text/plain": [
       "<Figure size 432x288 with 1 Axes>"
      ]
     },
     "metadata": {
      "needs_background": "light"
     },
     "output_type": "display_data"
    }
   ],
   "source": [
    "df['sign_cleaned'] = df['sign'].str.split().str[0]\n",
    "\n",
    "sns.countplot(data=df, y=\"sign_cleaned\");\n"
   ]
  },
  {
   "cell_type": "markdown",
   "metadata": {},
   "source": [
    "Astrological sign of the most of users is Leo and least common astrological sign of the users is Capricorn."
   ]
  },
  {
   "cell_type": "markdown",
   "metadata": {},
   "source": [
    "#### Smokes\n",
    "\n",
    "As we can see in the graph below, the vast majority of users do not smoke."
   ]
  },
  {
   "cell_type": "code",
   "execution_count": 80,
   "metadata": {},
   "outputs": [
    {
     "data": {
      "image/png": "[encoded data removed]",
      "text/plain": [
       "<Figure size 576x432 with 1 Axes>"
      ]
     },
     "metadata": {
      "needs_background": "light"
     },
     "output_type": "display_data"
    }
   ],
   "source": [
    "plt.figure(figsize=(8,6))\n",
    "\n",
    "sns.countplot(data=df, y=\"smokes\");\n"
   ]
  },
  {
   "cell_type": "markdown",
   "metadata": {},
   "source": [
    "#### Status\n",
    "\n",
    "The vast majority of uses are single.This is reasonable.Because they registered in this dating app to find a partner."
   ]
  },
  {
   "cell_type": "code",
   "execution_count": 83,
   "metadata": {},
   "outputs": [
    {
     "data": {
      "image/png": "[encoded data removed]",
      "text/plain": [
       "<Figure size 576x432 with 1 Axes>"
      ]
     },
     "metadata": {
      "needs_background": "light"
     },
     "output_type": "display_data"
    }
   ],
   "source": [
    "plt.figure(figsize=(8,6))\n",
    "\n",
    "sns.countplot(data=df, y=\"status\");\n"
   ]
  },
  {
   "cell_type": "markdown",
   "metadata": {},
   "source": [
    "### Data Preperation"
   ]
  },
  {
   "cell_type": "markdown",
   "metadata": {},
   "source": [
    "#### Missing Value\n",
    "\n",
    "Here we take a look at missing values in each column. We can see that lots of columns have many null values."
   ]
  },
  {
   "cell_type": "code",
   "execution_count": 5,
   "metadata": {},
   "outputs": [
    {
     "name": "stdout",
     "output_type": "stream",
     "text": [
      "age                     0\n",
      "body_type            5296\n",
      "diet                24395\n",
      "drinks               2985\n",
      "drugs               14080\n",
      "education            6628\n",
      "essay0               5488\n",
      "essay1               7572\n",
      "essay2               9638\n",
      "essay3              11476\n",
      "essay4              10537\n",
      "essay5              10850\n",
      "essay6              13771\n",
      "essay7              12451\n",
      "essay8              19225\n",
      "essay9              12603\n",
      "ethnicity            5680\n",
      "height                  3\n",
      "income                  0\n",
      "job                  8198\n",
      "last_online             0\n",
      "location                0\n",
      "offspring           35561\n",
      "orientation             0\n",
      "pets                19921\n",
      "religion            20226\n",
      "sex                     0\n",
      "sign                11056\n",
      "smokes               5512\n",
      "speaks                 50\n",
      "status                  0\n",
      "religion_cleaned    20226\n",
      "sign_cleaned        11056\n",
      "dtype: int64\n"
     ]
    }
   ],
   "source": [
    "print(df.isnull().sum())"
   ]
  },
  {
   "cell_type": "markdown",
   "metadata": {},
   "source": [
    "#### Convert Categorical Variables into Numeric Form\n",
    "\n",
    "Most of machine learning algorithms require all data to be numerical.Before deploying any machine learning algorithm to our data, we have to convert categorical features into numeric values.Some features like \"drinks\", \"drug\" and \"smoke\" have a degree range and can be considered as ordinal variable. These features can be mapped to numeric values.\n",
    "\n",
    "I create dummy variables for 'body_type', 'diet', 'orientation', 'pets', 'religion_cleaned', 'sex', 'job', 'status' and 'education' whenever I use them for my analysis.Because they do not have a clear order."
   ]
  },
  {
   "cell_type": "code",
   "execution_count": 50,
   "metadata": {},
   "outputs": [],
   "source": [
    "drinks_codes = {\n",
    "    \"not at all\": 0,\n",
    "    \"rarely\": 1,\n",
    "    \"socially\": 2,\n",
    "    \"often\": 3,\n",
    "    \"very often\": 4,\n",
    "    \"desperately\": 5\n",
    "}\n",
    "\n",
    "drugs_codes = {\n",
    "    \"never\": 0,\n",
    "    \"sometimes\": 1,\n",
    "    \"often\": 2\n",
    "}\n",
    "\n",
    "smokes_codes = {\n",
    "    \"no\": 0,\n",
    "    \"when drinking\": 1,\n",
    "    \"sometimes\": 2,\n",
    "    \"yes\": 3,\n",
    "    \"trying to quit\": 3\n",
    "}\n",
    "\n",
    "\"\"\"\n",
    "body_type_codes = {'thin':0,\n",
    "                   'skinny':1,\n",
    "                   'fit':2,\n",
    "                   'athletic':3,\n",
    "                   'jacked':4,\n",
    "                   'rather not say':5,\n",
    "                   'average':6,\n",
    "                   'a little extra':7,\n",
    "                   'used up':8,\n",
    "                   'curvy':9,\n",
    "                   'overweight':10,\n",
    "                   'full figured':11}\n",
    "\n",
    "df_copy[\"body_type_code\"] = df_copy['body_type'].map(body_type_codes)\n",
    "\n",
    "\"\"\"\n",
    "\n",
    "def catVartoNumeric(dataframe):\n",
    "    #convert drinks column to numeric value\n",
    "    dataframe[\"drinks_code\"] = dataframe['drinks'].map(drinks_codes)\n",
    "\n",
    "    #convert drugs column to numeric value\n",
    "\n",
    "    dataframe[\"drugs_code\"] = dataframe['drugs'].map(drugs_codes)\n",
    "\n",
    "    #convert smokes ordinal categorical values into numeric value\n",
    "\n",
    "    dataframe[\"smokes_code\"] = dataframe['smokes'].map(smokes_codes)\n",
    "    \n",
    "    return\n",
    "    "
   ]
  },
  {
   "cell_type": "markdown",
   "metadata": {},
   "source": [
    "### Question 1: Can we predict Zodiac signs using 'body_type', 'diet', 'orientation', 'pets', 'religion_cleaned', 'sex', 'job', 'smokes_code', 'drinks_code' and 'drugs_code' features?"
   ]
  },
  {
   "cell_type": "markdown",
   "metadata": {},
   "source": [
    "We don't need all columns for our machine learning part.So we have to choose subset of features and then remove the rows which have a null values in those columns."
   ]
  },
  {
   "cell_type": "code",
   "execution_count": 12,
   "metadata": {},
   "outputs": [
    {
     "name": "stdout",
     "output_type": "stream",
     "text": [
      "(12927, 84)\n"
     ]
    }
   ],
   "source": [
    "#create copy of dataframe to do the changes only to a copy of data\n",
    "df_copy = df\n",
    "\n",
    "#convert 'smokes', 'drinks' and 'drugs' to numeric form\n",
    "\n",
    "catVartoNumeric(df_copy)\n",
    "\n",
    "selected_features = ['sign_cleaned', 'body_type', 'diet', 'orientation', 'pets', 'religion_cleaned', 'sex', 'job', 'smokes_code', 'drinks_code' , 'drugs_code']\n",
    "df_copy = df_copy[selected_features].dropna()\n",
    "\n",
    "#convert 'body_type', 'diet', 'orientation', 'pets', 'religion_cleaned', 'sex', 'job' into dummy variables\n",
    "\n",
    "categoricalCols = ['body_type', 'diet', 'orientation', 'pets', 'religion_cleaned', 'sex', 'job']\n",
    "\n",
    "for col in categoricalCols:\n",
    "    df_copy = pd.get_dummies(df_copy, columns=[col], prefix = [col])\n",
    "\n",
    "print(df_copy.shape)"
   ]
  },
  {
   "cell_type": "code",
   "execution_count": 9,
   "metadata": {},
   "outputs": [
    {
     "data": {
      "text/html": [
       "<div>\n",
       "<style scoped>\n",
       "    .dataframe tbody tr th:only-of-type {\n",
       "        vertical-align: middle;\n",
       "    }\n",
       "\n",
       "    .dataframe tbody tr th {\n",
       "        vertical-align: top;\n",
       "    }\n",
       "\n",
       "    .dataframe thead th {\n",
       "        text-align: right;\n",
       "    }\n",
       "</style>\n",
       "<table border=\"1\" class=\"dataframe\">\n",
       "  <thead>\n",
       "    <tr style=\"text-align: right;\">\n",
       "      <th></th>\n",
       "      <th>sign_cleaned</th>\n",
       "      <th>smokes_code</th>\n",
       "      <th>drinks_code</th>\n",
       "      <th>drugs_code</th>\n",
       "      <th>body_type_a little extra</th>\n",
       "      <th>body_type_athletic</th>\n",
       "      <th>body_type_average</th>\n",
       "      <th>body_type_curvy</th>\n",
       "      <th>body_type_fit</th>\n",
       "      <th>body_type_full figured</th>\n",
       "      <th>...</th>\n",
       "      <th>job_military</th>\n",
       "      <th>job_other</th>\n",
       "      <th>job_political / government</th>\n",
       "      <th>job_rather not say</th>\n",
       "      <th>job_retired</th>\n",
       "      <th>job_sales / marketing / biz dev</th>\n",
       "      <th>job_science / tech / engineering</th>\n",
       "      <th>job_student</th>\n",
       "      <th>job_transportation</th>\n",
       "      <th>job_unemployed</th>\n",
       "    </tr>\n",
       "  </thead>\n",
       "  <tbody>\n",
       "    <tr>\n",
       "      <th>0</th>\n",
       "      <td>gemini</td>\n",
       "      <td>2.0</td>\n",
       "      <td>2.0</td>\n",
       "      <td>0.0</td>\n",
       "      <td>1</td>\n",
       "      <td>0</td>\n",
       "      <td>0</td>\n",
       "      <td>0</td>\n",
       "      <td>0</td>\n",
       "      <td>0</td>\n",
       "      <td>...</td>\n",
       "      <td>0</td>\n",
       "      <td>0</td>\n",
       "      <td>0</td>\n",
       "      <td>0</td>\n",
       "      <td>0</td>\n",
       "      <td>0</td>\n",
       "      <td>0</td>\n",
       "      <td>0</td>\n",
       "      <td>1</td>\n",
       "      <td>0</td>\n",
       "    </tr>\n",
       "    <tr>\n",
       "      <th>1</th>\n",
       "      <td>cancer</td>\n",
       "      <td>0.0</td>\n",
       "      <td>3.0</td>\n",
       "      <td>1.0</td>\n",
       "      <td>0</td>\n",
       "      <td>0</td>\n",
       "      <td>1</td>\n",
       "      <td>0</td>\n",
       "      <td>0</td>\n",
       "      <td>0</td>\n",
       "      <td>...</td>\n",
       "      <td>0</td>\n",
       "      <td>0</td>\n",
       "      <td>0</td>\n",
       "      <td>0</td>\n",
       "      <td>0</td>\n",
       "      <td>0</td>\n",
       "      <td>0</td>\n",
       "      <td>0</td>\n",
       "      <td>0</td>\n",
       "      <td>0</td>\n",
       "    </tr>\n",
       "    <tr>\n",
       "      <th>7</th>\n",
       "      <td>sagittarius</td>\n",
       "      <td>0.0</td>\n",
       "      <td>2.0</td>\n",
       "      <td>0.0</td>\n",
       "      <td>0</td>\n",
       "      <td>0</td>\n",
       "      <td>1</td>\n",
       "      <td>0</td>\n",
       "      <td>0</td>\n",
       "      <td>0</td>\n",
       "      <td>...</td>\n",
       "      <td>0</td>\n",
       "      <td>0</td>\n",
       "      <td>0</td>\n",
       "      <td>0</td>\n",
       "      <td>0</td>\n",
       "      <td>0</td>\n",
       "      <td>0</td>\n",
       "      <td>0</td>\n",
       "      <td>0</td>\n",
       "      <td>0</td>\n",
       "    </tr>\n",
       "    <tr>\n",
       "      <th>9</th>\n",
       "      <td>cancer</td>\n",
       "      <td>0.0</td>\n",
       "      <td>0.0</td>\n",
       "      <td>0.0</td>\n",
       "      <td>0</td>\n",
       "      <td>1</td>\n",
       "      <td>0</td>\n",
       "      <td>0</td>\n",
       "      <td>0</td>\n",
       "      <td>0</td>\n",
       "      <td>...</td>\n",
       "      <td>0</td>\n",
       "      <td>0</td>\n",
       "      <td>0</td>\n",
       "      <td>0</td>\n",
       "      <td>0</td>\n",
       "      <td>0</td>\n",
       "      <td>0</td>\n",
       "      <td>1</td>\n",
       "      <td>0</td>\n",
       "      <td>0</td>\n",
       "    </tr>\n",
       "    <tr>\n",
       "      <th>11</th>\n",
       "      <td>leo</td>\n",
       "      <td>0.0</td>\n",
       "      <td>2.0</td>\n",
       "      <td>0.0</td>\n",
       "      <td>0</td>\n",
       "      <td>0</td>\n",
       "      <td>1</td>\n",
       "      <td>0</td>\n",
       "      <td>0</td>\n",
       "      <td>0</td>\n",
       "      <td>...</td>\n",
       "      <td>0</td>\n",
       "      <td>0</td>\n",
       "      <td>0</td>\n",
       "      <td>0</td>\n",
       "      <td>0</td>\n",
       "      <td>0</td>\n",
       "      <td>0</td>\n",
       "      <td>0</td>\n",
       "      <td>0</td>\n",
       "      <td>0</td>\n",
       "    </tr>\n",
       "    <tr>\n",
       "      <th>14</th>\n",
       "      <td>taurus</td>\n",
       "      <td>0.0</td>\n",
       "      <td>2.0</td>\n",
       "      <td>0.0</td>\n",
       "      <td>0</td>\n",
       "      <td>0</td>\n",
       "      <td>0</td>\n",
       "      <td>0</td>\n",
       "      <td>0</td>\n",
       "      <td>0</td>\n",
       "      <td>...</td>\n",
       "      <td>0</td>\n",
       "      <td>1</td>\n",
       "      <td>0</td>\n",
       "      <td>0</td>\n",
       "      <td>0</td>\n",
       "      <td>0</td>\n",
       "      <td>0</td>\n",
       "      <td>0</td>\n",
       "      <td>0</td>\n",
       "      <td>0</td>\n",
       "    </tr>\n",
       "    <tr>\n",
       "      <th>18</th>\n",
       "      <td>libra</td>\n",
       "      <td>0.0</td>\n",
       "      <td>1.0</td>\n",
       "      <td>0.0</td>\n",
       "      <td>0</td>\n",
       "      <td>0</td>\n",
       "      <td>1</td>\n",
       "      <td>0</td>\n",
       "      <td>0</td>\n",
       "      <td>0</td>\n",
       "      <td>...</td>\n",
       "      <td>0</td>\n",
       "      <td>0</td>\n",
       "      <td>0</td>\n",
       "      <td>0</td>\n",
       "      <td>0</td>\n",
       "      <td>0</td>\n",
       "      <td>0</td>\n",
       "      <td>0</td>\n",
       "      <td>0</td>\n",
       "      <td>0</td>\n",
       "    </tr>\n",
       "    <tr>\n",
       "      <th>19</th>\n",
       "      <td>pisces</td>\n",
       "      <td>0.0</td>\n",
       "      <td>2.0</td>\n",
       "      <td>0.0</td>\n",
       "      <td>0</td>\n",
       "      <td>1</td>\n",
       "      <td>0</td>\n",
       "      <td>0</td>\n",
       "      <td>0</td>\n",
       "      <td>0</td>\n",
       "      <td>...</td>\n",
       "      <td>0</td>\n",
       "      <td>0</td>\n",
       "      <td>0</td>\n",
       "      <td>0</td>\n",
       "      <td>0</td>\n",
       "      <td>0</td>\n",
       "      <td>1</td>\n",
       "      <td>0</td>\n",
       "      <td>0</td>\n",
       "      <td>0</td>\n",
       "    </tr>\n",
       "    <tr>\n",
       "      <th>20</th>\n",
       "      <td>libra</td>\n",
       "      <td>0.0</td>\n",
       "      <td>2.0</td>\n",
       "      <td>0.0</td>\n",
       "      <td>0</td>\n",
       "      <td>0</td>\n",
       "      <td>1</td>\n",
       "      <td>0</td>\n",
       "      <td>0</td>\n",
       "      <td>0</td>\n",
       "      <td>...</td>\n",
       "      <td>0</td>\n",
       "      <td>0</td>\n",
       "      <td>0</td>\n",
       "      <td>0</td>\n",
       "      <td>0</td>\n",
       "      <td>1</td>\n",
       "      <td>0</td>\n",
       "      <td>0</td>\n",
       "      <td>0</td>\n",
       "      <td>0</td>\n",
       "    </tr>\n",
       "    <tr>\n",
       "      <th>22</th>\n",
       "      <td>sagittarius</td>\n",
       "      <td>0.0</td>\n",
       "      <td>2.0</td>\n",
       "      <td>0.0</td>\n",
       "      <td>0</td>\n",
       "      <td>0</td>\n",
       "      <td>0</td>\n",
       "      <td>0</td>\n",
       "      <td>1</td>\n",
       "      <td>0</td>\n",
       "      <td>...</td>\n",
       "      <td>0</td>\n",
       "      <td>0</td>\n",
       "      <td>0</td>\n",
       "      <td>0</td>\n",
       "      <td>0</td>\n",
       "      <td>0</td>\n",
       "      <td>0</td>\n",
       "      <td>0</td>\n",
       "      <td>0</td>\n",
       "      <td>0</td>\n",
       "    </tr>\n",
       "  </tbody>\n",
       "</table>\n",
       "<p>10 rows × 84 columns</p>\n",
       "</div>"
      ],
      "text/plain": [
       "   sign_cleaned  smokes_code  drinks_code  drugs_code  \\\n",
       "0        gemini          2.0          2.0         0.0   \n",
       "1        cancer          0.0          3.0         1.0   \n",
       "7   sagittarius          0.0          2.0         0.0   \n",
       "9        cancer          0.0          0.0         0.0   \n",
       "11          leo          0.0          2.0         0.0   \n",
       "14       taurus          0.0          2.0         0.0   \n",
       "18        libra          0.0          1.0         0.0   \n",
       "19       pisces          0.0          2.0         0.0   \n",
       "20        libra          0.0          2.0         0.0   \n",
       "22  sagittarius          0.0          2.0         0.0   \n",
       "\n",
       "    body_type_a little extra  body_type_athletic  body_type_average  \\\n",
       "0                          1                   0                  0   \n",
       "1                          0                   0                  1   \n",
       "7                          0                   0                  1   \n",
       "9                          0                   1                  0   \n",
       "11                         0                   0                  1   \n",
       "14                         0                   0                  0   \n",
       "18                         0                   0                  1   \n",
       "19                         0                   1                  0   \n",
       "20                         0                   0                  1   \n",
       "22                         0                   0                  0   \n",
       "\n",
       "    body_type_curvy  body_type_fit  body_type_full figured  ...  job_military  \\\n",
       "0                 0              0                       0  ...             0   \n",
       "1                 0              0                       0  ...             0   \n",
       "7                 0              0                       0  ...             0   \n",
       "9                 0              0                       0  ...             0   \n",
       "11                0              0                       0  ...             0   \n",
       "14                0              0                       0  ...             0   \n",
       "18                0              0                       0  ...             0   \n",
       "19                0              0                       0  ...             0   \n",
       "20                0              0                       0  ...             0   \n",
       "22                0              1                       0  ...             0   \n",
       "\n",
       "    job_other  job_political / government  job_rather not say  job_retired  \\\n",
       "0           0                           0                   0            0   \n",
       "1           0                           0                   0            0   \n",
       "7           0                           0                   0            0   \n",
       "9           0                           0                   0            0   \n",
       "11          0                           0                   0            0   \n",
       "14          1                           0                   0            0   \n",
       "18          0                           0                   0            0   \n",
       "19          0                           0                   0            0   \n",
       "20          0                           0                   0            0   \n",
       "22          0                           0                   0            0   \n",
       "\n",
       "    job_sales / marketing / biz dev  job_science / tech / engineering  \\\n",
       "0                                 0                                 0   \n",
       "1                                 0                                 0   \n",
       "7                                 0                                 0   \n",
       "9                                 0                                 0   \n",
       "11                                0                                 0   \n",
       "14                                0                                 0   \n",
       "18                                0                                 0   \n",
       "19                                0                                 1   \n",
       "20                                1                                 0   \n",
       "22                                0                                 0   \n",
       "\n",
       "    job_student  job_transportation  job_unemployed  \n",
       "0             0                   1               0  \n",
       "1             0                   0               0  \n",
       "7             0                   0               0  \n",
       "9             1                   0               0  \n",
       "11            0                   0               0  \n",
       "14            0                   0               0  \n",
       "18            0                   0               0  \n",
       "19            0                   0               0  \n",
       "20            0                   0               0  \n",
       "22            0                   0               0  \n",
       "\n",
       "[10 rows x 84 columns]"
      ]
     },
     "execution_count": 9,
     "metadata": {},
     "output_type": "execute_result"
    }
   ],
   "source": [
    "#let's take a look at new dataframe\n",
    "df_copy.head(10)\n",
    "\n",
    "#print(df_copy.columns)"
   ]
  },
  {
   "cell_type": "markdown",
   "metadata": {},
   "source": [
    "#### Splitting Data\n",
    "\n",
    "Before applying the machine learning methods, we have to split our data into training set and test set. I have to use normalization in order to give equal weights/importance to each feature so that no single feature steers model performance in one direction just because it has larger value.By using MinMaxScaler I change the values of numeric feature of the dataset to a common scale."
   ]
  },
  {
   "cell_type": "code",
   "execution_count": 13,
   "metadata": {},
   "outputs": [],
   "source": [
    "\n",
    "#Y is the target column, X has the features\n",
    "X = df_copy.iloc[:, 1:]\n",
    "y = df_copy['sign_cleaned']\n",
    "\n",
    "#Split the data into training set and test set \n",
    "X_train, X_test, y_train, y_test = train_test_split(X, y, test_size=0.2, random_state = 0)\n",
    "\n",
    "#Pandas Series.ravel() function returns the flattened underlying data as an ndarray(1d array)\n",
    "y_train = y_train.ravel()\n",
    "y_test = y_test.ravel()\n",
    "\n",
    "#use MinMaxScaler to put all features values in the same range and scale\n",
    "scaler = MinMaxScaler()\n",
    "X_train_scaled = scaler.fit_transform(X_train)\n",
    "X_test_scaled = scaler.fit_transform(X_test)"
   ]
  },
  {
   "cell_type": "markdown",
   "metadata": {},
   "source": [
    "### Model Building"
   ]
  },
  {
   "cell_type": "markdown",
   "metadata": {},
   "source": [
    "In this step, we have choose some classification methods from scikit-learn library to predict class of test set samples.Classification methods should be able to do a multiclass classification. I used Multinomial Naive Bayes, LogisticRegression, DecisionTreeClassifiers and KNeighborsClassifier."
   ]
  },
  {
   "cell_type": "markdown",
   "metadata": {},
   "source": [
    "#### Multinomial Naive Bayes"
   ]
  },
  {
   "cell_type": "code",
   "execution_count": 12,
   "metadata": {},
   "outputs": [
    {
     "name": "stdout",
     "output_type": "stream",
     "text": [
      "The accuracy of model on training data is: 13.0%\n",
      "\n",
      "              precision    recall  f1-score   support\n",
      "\n",
      "    aquarius       0.06      0.03      0.04       178\n",
      "       aries       0.08      0.08      0.08       212\n",
      "      cancer       0.11      0.13      0.12       246\n",
      "   capricorn       0.06      0.04      0.05       168\n",
      "      gemini       0.10      0.09      0.09       231\n",
      "         leo       0.09      0.09      0.09       254\n",
      "       libra       0.09      0.13      0.11       199\n",
      "      pisces       0.06      0.09      0.07       181\n",
      " sagittarius       0.09      0.05      0.06       224\n",
      "     scorpio       0.05      0.03      0.03       228\n",
      "      taurus       0.06      0.04      0.05       234\n",
      "       virgo       0.09      0.17      0.12       231\n",
      "\n",
      "    accuracy                           0.08      2586\n",
      "   macro avg       0.08      0.08      0.08      2586\n",
      "weighted avg       0.08      0.08      0.08      2586\n",
      "\n"
     ]
    }
   ],
   "source": [
    "NBmodel = MultinomialNB()\n",
    "#NBmodel = GaussianNB()\n",
    "\n",
    "NBmodel.fit(X_train_scaled, y_train)\n",
    "\n",
    "training_accuracy = NBmodel.score(X_train_scaled, y_train)\n",
    "\n",
    "print(\"The accuracy of model on training data is: {}%\".format(round(training_accuracy, 2) *100))\n",
    "print()\n",
    "\n",
    "predictions = NBmodel.predict(X_test_scaled)\n",
    "\n",
    "print(classification_report(y_test, predictions))"
   ]
  },
  {
   "cell_type": "markdown",
   "metadata": {},
   "source": [
    "#### Logistic Regression"
   ]
  },
  {
   "cell_type": "code",
   "execution_count": 14,
   "metadata": {},
   "outputs": [
    {
     "name": "stdout",
     "output_type": "stream",
     "text": [
      "The accuracy of model on training data is: 13.0%\n",
      "\n",
      "              precision    recall  f1-score   support\n",
      "\n",
      "    aquarius       0.05      0.03      0.04       178\n",
      "       aries       0.08      0.08      0.08       212\n",
      "      cancer       0.11      0.13      0.12       246\n",
      "   capricorn       0.05      0.04      0.04       168\n",
      "      gemini       0.12      0.14      0.13       231\n",
      "         leo       0.09      0.10      0.09       254\n",
      "       libra       0.09      0.12      0.10       199\n",
      "      pisces       0.06      0.09      0.07       181\n",
      " sagittarius       0.06      0.04      0.05       224\n",
      "     scorpio       0.08      0.04      0.05       228\n",
      "      taurus       0.07      0.05      0.06       234\n",
      "       virgo       0.09      0.14      0.11       231\n",
      "\n",
      "    accuracy                           0.09      2586\n",
      "   macro avg       0.08      0.08      0.08      2586\n",
      "weighted avg       0.08      0.09      0.08      2586\n",
      "\n"
     ]
    }
   ],
   "source": [
    "logReg_model = LogisticRegression(multi_class= \"multinomial\")\n",
    "\n",
    "logReg_model.fit(X_train_scaled, y_train)\n",
    "\n",
    "training_accuracy = logReg_model.score(X_train_scaled, y_train)\n",
    "\n",
    "print(\"The accuracy of model on training data is: {}%\".format(round(training_accuracy, 2) *100))\n",
    "print()\n",
    "\n",
    "predictions = logReg_model.predict(X_test_scaled)\n",
    "\n",
    "print(classification_report(y_test, predictions))"
   ]
  },
  {
   "cell_type": "markdown",
   "metadata": {},
   "source": [
    "We can see that by using naive bayes classifier and logistic regression, we get poor results.The accuracy of both models are very low(9%).They are even perform very poorly on the training data too.The accuracy of model on training data is 13%. This shows us that these two classification methods are not suitable and we have underfitting problem."
   ]
  },
  {
   "cell_type": "markdown",
   "metadata": {},
   "source": [
    "#### K Nearest Neighbor"
   ]
  },
  {
   "cell_type": "code",
   "execution_count": 14,
   "metadata": {},
   "outputs": [
    {
     "data": {
      "image/png": "[encoded data removed]",
      "text/plain": [
       "<Figure size 432x288 with 1 Axes>"
      ]
     },
     "metadata": {
      "needs_background": "light"
     },
     "output_type": "display_data"
    }
   ],
   "source": [
    "accuracies = []\n",
    "k_list = list(range(1,41))\n",
    "\n",
    "for k in range(1,41):\n",
    "    KNNmodel = KNeighborsClassifier(n_neighbors = k)\n",
    "    KNNmodel.fit(X_train_scaled, y_train)\n",
    "    accuracies.append(KNNmodel.score(X_test_scaled, y_test))\n",
    "    \n",
    "    \n",
    "plt.plot(k_list, accuracies)\n",
    "plt.xlabel(\"k\")\n",
    "plt.ylabel(\"Test set Accuracy\")\n",
    "plt.title(\"Accuracy of Model on Test Set\")\n",
    "plt.show()"
   ]
  },
  {
   "cell_type": "code",
   "execution_count": 15,
   "metadata": {},
   "outputs": [
    {
     "name": "stdout",
     "output_type": "stream",
     "text": [
      "The accuracy of model on training data is: 26.0%\n",
      "\n",
      "              precision    recall  f1-score   support\n",
      "\n",
      "    aquarius       0.07      0.12      0.09       178\n",
      "       aries       0.10      0.16      0.12       212\n",
      "      cancer       0.11      0.15      0.13       246\n",
      "   capricorn       0.06      0.07      0.06       168\n",
      "      gemini       0.11      0.13      0.12       231\n",
      "         leo       0.12      0.10      0.11       254\n",
      "       libra       0.08      0.08      0.08       199\n",
      "      pisces       0.08      0.10      0.09       181\n",
      " sagittarius       0.04      0.03      0.03       224\n",
      "     scorpio       0.06      0.03      0.04       228\n",
      "      taurus       0.08      0.04      0.06       234\n",
      "       virgo       0.11      0.06      0.07       231\n",
      "\n",
      "    accuracy                           0.09      2586\n",
      "   macro avg       0.09      0.09      0.08      2586\n",
      "weighted avg       0.09      0.09      0.08      2586\n",
      "\n"
     ]
    }
   ],
   "source": [
    "KNNmodel = KNeighborsClassifier(n_neighbors = 10)\n",
    "\n",
    "KNNmodel.fit(X_train_scaled, y_train)\n",
    "\n",
    "training_accuracy = KNNmodel.score(X_train_scaled, y_train)\n",
    "\n",
    "print(\"The accuracy of model on training data is: {}%\".format(round(training_accuracy, 2) *100))\n",
    "print()\n",
    "\n",
    "predictions = KNNmodel.predict(X_test_scaled)\n",
    "\n",
    "print(classification_report(y_test, predictions))"
   ]
  },
  {
   "cell_type": "markdown",
   "metadata": {},
   "source": [
    "By using K Nearest Neighbor algorithm and choose k to be 10, we get better training accuracy than previous two methods but this is still low(26%).Our accuracy on test set is 9% which is very low."
   ]
  },
  {
   "cell_type": "markdown",
   "metadata": {},
   "source": [
    "#### Decision Tree Classifier"
   ]
  },
  {
   "cell_type": "code",
   "execution_count": 16,
   "metadata": {},
   "outputs": [
    {
     "name": "stdout",
     "output_type": "stream",
     "text": [
      "The accuracy of model on training data is: 91.0%\n",
      "\n",
      "              precision    recall  f1-score   support\n",
      "\n",
      "    aquarius       0.05      0.06      0.06       178\n",
      "       aries       0.07      0.09      0.08       212\n",
      "      cancer       0.09      0.09      0.09       246\n",
      "   capricorn       0.07      0.09      0.08       168\n",
      "      gemini       0.09      0.10      0.09       231\n",
      "         leo       0.10      0.08      0.09       254\n",
      "       libra       0.08      0.09      0.09       199\n",
      "      pisces       0.07      0.09      0.08       181\n",
      " sagittarius       0.06      0.06      0.06       224\n",
      "     scorpio       0.06      0.04      0.05       228\n",
      "      taurus       0.08      0.06      0.07       234\n",
      "       virgo       0.07      0.06      0.06       231\n",
      "\n",
      "    accuracy                           0.08      2586\n",
      "   macro avg       0.07      0.08      0.07      2586\n",
      "weighted avg       0.08      0.08      0.07      2586\n",
      "\n"
     ]
    }
   ],
   "source": [
    "DTmodel = DecisionTreeClassifier()\n",
    "\n",
    "DTmodel.fit(X_train_scaled, y_train)\n",
    "\n",
    "training_accuracy = DTmodel.score(X_train_scaled, y_train)\n",
    "\n",
    "print(\"The accuracy of model on training data is: {}%\".format(round(training_accuracy, 2) *100))\n",
    "print()\n",
    "\n",
    "predictions = DTmodel.predict(X_test_scaled)\n",
    "\n",
    "print(classification_report(y_test, predictions))"
   ]
  },
  {
   "cell_type": "markdown",
   "metadata": {},
   "source": [
    "The accuracy of decision tree model on training data is 91% which is very high but on test data it performs very bad by 8% accuracy.This shows that decision tree model suffers from overfitting.If we guess the zodiac sign of user, the probability of guessing correct is 1/12 (0.083).This tell us that our models that I trained above did not significantly outperform random guessing.\n",
    "\n",
    "So we can conclude that by using 'body_type', 'diet', 'orientation', 'pets', 'religion_cleaned', 'sex', 'job', 'smokes_code', 'drinks_code' and 'drugs_code', we cannot predict zodiac sign of the user."
   ]
  },
  {
   "cell_type": "markdown",
   "metadata": {},
   "source": [
    "### Question 2: Can we use lifestyle information ('diet', 'smokes_code', 'drinks_code', 'drugs_code'), sex and age to predict body type?"
   ]
  },
  {
   "cell_type": "code",
   "execution_count": 24,
   "metadata": {},
   "outputs": [
    {
     "name": "stdout",
     "output_type": "stream",
     "text": [
      "(25202, 25)\n"
     ]
    }
   ],
   "source": [
    "#create copy of dataframe to do the changes only to a copy of data\n",
    "df_copy2 = df\n",
    "\n",
    "#convert 'smokes', 'drinks' and 'drugs' to numeric form\n",
    "\n",
    "catVartoNumeric(df_copy2)\n",
    "\n",
    "selected_features = ['body_type', 'diet', 'sex', 'smokes_code', 'drinks_code' , 'drugs_code', 'age']\n",
    "df_copy2 = df_copy2[selected_features].dropna()\n",
    "\n",
    "#convert 'diet' and 'sex' into dummy variables\n",
    "categoricalCols = ['diet', 'sex']\n",
    "\n",
    "for col in categoricalCols:\n",
    "    df_copy2 = pd.get_dummies(df_copy2, columns=[col], prefix = [col])\n",
    "\n",
    "print(df_copy2.shape)"
   ]
  },
  {
   "cell_type": "code",
   "execution_count": 27,
   "metadata": {},
   "outputs": [],
   "source": [
    "#Y is the target column, X has the features\n",
    "X = df_copy2.iloc[:, 1:]\n",
    "y = df_copy2['body_type']\n",
    "\n",
    "#Split the data into training set and test set\n",
    "X_train, X_test, y_train, y_test = train_test_split(X, y, test_size=0.2, random_state = 0)\n",
    "\n",
    "#Pandas Series.ravel() function returns the flattened underlying data as an ndarray(1d array)\n",
    "y_train = y_train.ravel()\n",
    "y_test = y_test.ravel()\n",
    "\n",
    "scaler = MinMaxScaler()\n",
    "X_train_scaled = scaler.fit_transform(X_train) \n",
    "X_test_scaled = scaler.fit_transform(X_test)"
   ]
  },
  {
   "cell_type": "markdown",
   "metadata": {},
   "source": [
    "After splitting data into training set and test set and normalizing it, our data is ready for analysis.For this question I used 4 different classifiers.Logistic Regression, K Nearest Neighbor, Decision Tree and Support Vector Machine."
   ]
  },
  {
   "cell_type": "markdown",
   "metadata": {},
   "source": [
    "#### Logistic Regression"
   ]
  },
  {
   "cell_type": "markdown",
   "metadata": {},
   "source": [
    "Logistic Regression do a binary classification.In order to do a multi class classification, I give \"multinomial\" argument to the  multi_class parameter.The accuracy of this model on training data is 28.99% and accuracy of model on test data is 29%."
   ]
  },
  {
   "cell_type": "code",
   "execution_count": 35,
   "metadata": {},
   "outputs": [
    {
     "name": "stdout",
     "output_type": "stream",
     "text": [
      "The accuracy of model on training data is: 28.999999999999996%\n",
      "\n",
      "                precision    recall  f1-score   support\n",
      "\n",
      "a little extra       0.00      0.00      0.00       265\n",
      "      athletic       0.30      0.54      0.38      1028\n",
      "       average       0.29      0.50      0.37      1399\n",
      "         curvy       0.22      0.11      0.15       357\n",
      "           fit       0.28      0.14      0.19      1159\n",
      "  full figured       0.00      0.00      0.00        95\n",
      "        jacked       0.00      0.00      0.00        34\n",
      "    overweight       0.00      0.00      0.00        46\n",
      "rather not say       0.00      0.00      0.00        12\n",
      "        skinny       1.00      0.01      0.01       166\n",
      "          thin       0.07      0.00      0.00       438\n",
      "       used up       0.00      0.00      0.00        42\n",
      "\n",
      "      accuracy                           0.29      5041\n",
      "     macro avg       0.18      0.11      0.09      5041\n",
      "  weighted avg       0.26      0.29      0.23      5041\n",
      "\n"
     ]
    }
   ],
   "source": [
    "logReg_model = LogisticRegression(multi_class= \"multinomial\")\n",
    "\n",
    "logReg_model.fit(X_train_scaled, y_train)\n",
    "\n",
    "training_accuracy = logReg_model.score(X_train_scaled, y_train)\n",
    "\n",
    "print(\"The accuracy of model on training data is: {}%\".format(round(training_accuracy, 2) *100))\n",
    "print()\n",
    "\n",
    "predictions = logReg_model.predict(X_test_scaled)\n",
    "\n",
    "print(classification_report(y_test, predictions))"
   ]
  },
  {
   "cell_type": "markdown",
   "metadata": {},
   "source": [
    "#### K Nearest Neighbor"
   ]
  },
  {
   "cell_type": "markdown",
   "metadata": {},
   "source": [
    "For finding the best k for our model, I run the KNN algorithm for 90 times and find the k that gives the best accuracy score.This k is 67 for our data. The accuracy of KNN model(K=67) on training data is 31% and accuracy of model on test data is 28%."
   ]
  },
  {
   "cell_type": "code",
   "execution_count": 26,
   "metadata": {},
   "outputs": [
    {
     "data": {
      "image/png": "[encoded data removed]",
      "text/plain": [
       "<Figure size 432x288 with 1 Axes>"
      ]
     },
     "metadata": {
      "needs_background": "light"
     },
     "output_type": "display_data"
    },
    {
     "name": "stdout",
     "output_type": "stream",
     "text": [
      "Best K for best accuracy is: 67\n"
     ]
    }
   ],
   "source": [
    "accuracies = []\n",
    "k_list = list(range(1,91))\n",
    "\n",
    "for k in range(1,91):\n",
    "    KNNmodel = KNeighborsClassifier(n_neighbors = k)\n",
    "    KNNmodel.fit(X_train_scaled, y_train)\n",
    "    accuracies.append(KNNmodel.score(X_test_scaled, y_test))\n",
    "    \n",
    "    \n",
    "plt.plot(k_list, accuracies)\n",
    "plt.xlabel(\"k\")\n",
    "plt.ylabel(\"Test set Accuracy\")\n",
    "plt.title(\"Accuracy of Model on Test Set\")\n",
    "plt.show()\n",
    "\n",
    "l_np = np.asarray(accuracies)\n",
    "\n",
    "print(f\"Best K for best accuracy is: {l_np.argmax()+1}\")\n"
   ]
  },
  {
   "cell_type": "code",
   "execution_count": 32,
   "metadata": {},
   "outputs": [
    {
     "name": "stdout",
     "output_type": "stream",
     "text": [
      "The accuracy of model on training data is: 31.0%\n",
      "\n",
      "                precision    recall  f1-score   support\n",
      "\n",
      "a little extra       0.00      0.00      0.00       265\n",
      "      athletic       0.30      0.41      0.35      1028\n",
      "       average       0.29      0.50      0.37      1399\n",
      "         curvy       0.16      0.09      0.12       357\n",
      "           fit       0.26      0.23      0.25      1159\n",
      "  full figured       0.00      0.00      0.00        95\n",
      "        jacked       0.00      0.00      0.00        34\n",
      "    overweight       0.00      0.00      0.00        46\n",
      "rather not say       0.00      0.00      0.00        12\n",
      "        skinny       0.00      0.00      0.00       166\n",
      "          thin       0.18      0.00      0.01       438\n",
      "       used up       0.00      0.00      0.00        42\n",
      "\n",
      "      accuracy                           0.28      5041\n",
      "     macro avg       0.10      0.10      0.09      5041\n",
      "  weighted avg       0.23      0.28      0.24      5041\n",
      "\n"
     ]
    }
   ],
   "source": [
    "KNNmodel = KNeighborsClassifier(n_neighbors = 67)\n",
    "\n",
    "KNNmodel.fit(X_train_scaled, y_train)\n",
    "\n",
    "training_accuracy = KNNmodel.score(X_train_scaled, y_train)\n",
    "\n",
    "print(\"The accuracy of model on training data is: {}%\".format(round(training_accuracy, 2) *100))\n",
    "print()\n",
    "\n",
    "predictions = KNNmodel.predict(X_test_scaled)\n",
    "\n",
    "print(classification_report(y_test, predictions))"
   ]
  },
  {
   "cell_type": "markdown",
   "metadata": {},
   "source": [
    "#### Decision Tree Classifier"
   ]
  },
  {
   "cell_type": "markdown",
   "metadata": {},
   "source": [
    "When using a Decision Tree classifier in python we can tune its hyperparameters to get the best result.We can find the best parameters that give best score.By using grid search technique, we can achieve this.I used 'criterion', 'max_depth', 'min_samples_leaf' for tuning.The accuracy of Decision Tree on training data is 32% and accuracy of model on test data is 29%."
   ]
  },
  {
   "cell_type": "code",
   "execution_count": 33,
   "metadata": {},
   "outputs": [
    {
     "name": "stdout",
     "output_type": "stream",
     "text": [
      "Tuned Decision Tree Parameters: {'criterion': 'gini', 'max_depth': 8, 'min_samples_leaf': 2}\n",
      "Best score is 0.2856506244120923\n"
     ]
    }
   ],
   "source": [
    "param_grid = {\"max_depth\": [8, 12, 18, 24, None],\n",
    "              \"min_samples_leaf\": range(1, 9),\n",
    "              \"criterion\": [\"gini\", \"entropy\"]}\n",
    "\n",
    "DTmodel = DecisionTreeClassifier()\n",
    "\n",
    "tree_cv = GridSearchCV(DTmodel, param_grid, cv = 5)\n",
    "\n",
    "tree_cv.fit(X_train_scaled, y_train)\n",
    "\n",
    "# Print the tuned parameters and score\n",
    "print(\"Tuned Decision Tree Parameters: {}\".format(tree_cv.best_params_))\n",
    "print(\"Best score is {}\".format(tree_cv.best_score_))"
   ]
  },
  {
   "cell_type": "code",
   "execution_count": 34,
   "metadata": {},
   "outputs": [
    {
     "name": "stdout",
     "output_type": "stream",
     "text": [
      "The accuracy of model on training data is: 32.0%\n",
      "\n",
      "                precision    recall  f1-score   support\n",
      "\n",
      "a little extra       0.10      0.00      0.01       265\n",
      "      athletic       0.30      0.38      0.33      1028\n",
      "       average       0.29      0.52      0.37      1399\n",
      "         curvy       0.22      0.14      0.17       357\n",
      "           fit       0.29      0.24      0.26      1159\n",
      "  full figured       0.00      0.00      0.00        95\n",
      "        jacked       0.00      0.00      0.00        34\n",
      "    overweight       0.00      0.00      0.00        46\n",
      "rather not say       0.00      0.00      0.00        12\n",
      "        skinny       0.00      0.00      0.00       166\n",
      "          thin       0.10      0.01      0.02       438\n",
      "       used up       0.00      0.00      0.00        42\n",
      "\n",
      "      accuracy                           0.29      5041\n",
      "     macro avg       0.11      0.11      0.10      5041\n",
      "  weighted avg       0.24      0.29      0.24      5041\n",
      "\n",
      "8\n"
     ]
    }
   ],
   "source": [
    "DTmodel = DecisionTreeClassifier(criterion =  'gini' , max_depth =  8, min_samples_leaf = 2)\n",
    "\n",
    "DTmodel.fit(X_train_scaled, y_train)\n",
    "\n",
    "training_accuracy = DTmodel.score(X_train_scaled, y_train)\n",
    "\n",
    "print(\"The accuracy of model on training data is: {}%\".format(round(training_accuracy, 2) *100))\n",
    "print()\n",
    "\n",
    "predictions = DTmodel.predict(X_test_scaled)\n",
    "\n",
    "print(classification_report(y_test, predictions))\n",
    "\n",
    "print(DTmodel.get_depth())"
   ]
  },
  {
   "cell_type": "markdown",
   "metadata": {},
   "source": [
    "#### Support Vector Machine"
   ]
  },
  {
   "cell_type": "markdown",
   "metadata": {},
   "source": [
    "We can tune hyperparameters for SVM model too. I choose 'C', 'gamma', 'kernel' for tuning.The accuracy of tuned Support Vector Machine on training data is 30% and accuracy of model on test data is 29%."
   ]
  },
  {
   "cell_type": "code",
   "execution_count": 9,
   "metadata": {},
   "outputs": [
    {
     "name": "stdout",
     "output_type": "stream",
     "text": [
      "Tuned Support Vector Machine classifier Parameters: {'C': 0.1, 'gamma': 1, 'kernel': 'rbf'}\n",
      "Best score is 0.29834871732807516\n"
     ]
    }
   ],
   "source": [
    "param_grid = {'C': [0.1, 1, 10], \n",
    "              'gamma': [0.1, 1, 10],\n",
    "              'kernel': ['linear', 'rbf']}\n",
    "\n",
    "SVCmodel = SVC()\n",
    "\n",
    "svm_cv = GridSearchCV(SVCmodel, param_grid, cv = 5)\n",
    "\n",
    "svm_cv.fit(X_train, y_train)\n",
    "\n",
    "# Print the tuned parameters and score\n",
    "print(\"Tuned Support Vector Machine classifier Parameters: {}\".format(svm_cv.best_params_))\n",
    "print(\"Best score is {}\".format(svm_cv.best_score_))"
   ]
  },
  {
   "cell_type": "code",
   "execution_count": 36,
   "metadata": {},
   "outputs": [
    {
     "name": "stdout",
     "output_type": "stream",
     "text": [
      "The accuracy of model on training data is: 30.0%\n",
      "\n",
      "                precision    recall  f1-score   support\n",
      "\n",
      "a little extra       0.00      0.00      0.00       265\n",
      "      athletic       0.29      0.59      0.39      1028\n",
      "       average       0.28      0.51      0.36      1399\n",
      "         curvy       0.00      0.00      0.00       357\n",
      "           fit       0.28      0.11      0.16      1159\n",
      "  full figured       0.00      0.00      0.00        95\n",
      "        jacked       0.00      0.00      0.00        34\n",
      "    overweight       0.00      0.00      0.00        46\n",
      "rather not say       0.00      0.00      0.00        12\n",
      "        skinny       0.00      0.00      0.00       166\n",
      "          thin       0.00      0.00      0.00       438\n",
      "       used up       0.00      0.00      0.00        42\n",
      "\n",
      "      accuracy                           0.29      5041\n",
      "     macro avg       0.07      0.10      0.08      5041\n",
      "  weighted avg       0.20      0.29      0.22      5041\n",
      "\n"
     ]
    }
   ],
   "source": [
    "SVCmodel = SVC(kernel = 'rbf', C = 0.1, gamma = 1)\n",
    "\n",
    "SVCmodel.fit(X_train_scaled, y_train)\n",
    "\n",
    "training_accuracy = SVCmodel.score(X_train_scaled, y_train)\n",
    "\n",
    "print(\"The accuracy of model on training data is: {}%\".format(round(training_accuracy, 2) *100))\n",
    "print()\n",
    "\n",
    "predictions = SVCmodel.predict(X_test_scaled)\n",
    "\n",
    "print(classification_report(y_test, predictions))"
   ]
  },
  {
   "cell_type": "markdown",
   "metadata": {},
   "source": [
    "We can see that all of four models have approximately the same accuracy.Their accuracy on both training set and test set is about 30%. This accuracy is under 50% and tells us that 'diet', 'smokes_code', 'drinks_code', 'drugs_code', sex and age cannot be used to predict body type."
   ]
  },
  {
   "cell_type": "markdown",
   "metadata": {},
   "source": [
    "### Question 3: Can we predict income of users using \"job\", \"sex\" and \"education\"?"
   ]
  },
  {
   "cell_type": "markdown",
   "metadata": {},
   "source": [
    "First of all we have to inspect income column and see what values were entered by users. We can see that majority of users did not give informtion about their income(-1). We should replace (-1) with nan values and then drop those rows with other rows that have a null values in them."
   ]
  },
  {
   "cell_type": "markdown",
   "metadata": {},
   "source": [
    "In this part of project, I do not use normalization or standardization, because after converting 'job', 'sex' and 'education' into dummy variables and using one hot encoding method, all the features' data mapped to ones and zeros and all the features have the same scale. So we do not need to scale them."
   ]
  },
  {
   "cell_type": "code",
   "execution_count": 11,
   "metadata": {},
   "outputs": [
    {
     "data": {
      "text/plain": [
       "NaN          48442\n",
       "20000.0       2952\n",
       "100000.0      1621\n",
       "80000.0       1111\n",
       "30000.0       1048\n",
       "40000.0       1005\n",
       "50000.0        975\n",
       "60000.0        736\n",
       "70000.0        707\n",
       "150000.0       631\n",
       "1000000.0      521\n",
       "250000.0       149\n",
       "500000.0        48\n",
       "Name: income, dtype: int64"
      ]
     },
     "execution_count": 11,
     "metadata": {},
     "output_type": "execute_result"
    }
   ],
   "source": [
    "#create copy of dataframe to do the changes only to a copy of data\n",
    "df_copy3 = df\n",
    "\n",
    "df_copy3[df_copy3.income==-1]= np.nan\n",
    "\n",
    "df_copy3.income.value_counts(dropna = False)"
   ]
  },
  {
   "cell_type": "code",
   "execution_count": 12,
   "metadata": {},
   "outputs": [
    {
     "name": "stdout",
     "output_type": "stream",
     "text": [
      "(10536, 52)\n"
     ]
    },
    {
     "data": {
      "text/html": [
       "<div>\n",
       "<style scoped>\n",
       "    .dataframe tbody tr th:only-of-type {\n",
       "        vertical-align: middle;\n",
       "    }\n",
       "\n",
       "    .dataframe tbody tr th {\n",
       "        vertical-align: top;\n",
       "    }\n",
       "\n",
       "    .dataframe thead th {\n",
       "        text-align: right;\n",
       "    }\n",
       "</style>\n",
       "<table border=\"1\" class=\"dataframe\">\n",
       "  <thead>\n",
       "    <tr style=\"text-align: right;\">\n",
       "      <th></th>\n",
       "      <th>income</th>\n",
       "      <th>job_banking / financial / real estate</th>\n",
       "      <th>job_clerical / administrative</th>\n",
       "      <th>job_computer / hardware / software</th>\n",
       "      <th>job_construction / craftsmanship</th>\n",
       "      <th>job_education / academia</th>\n",
       "      <th>job_entertainment / media</th>\n",
       "      <th>job_executive / management</th>\n",
       "      <th>job_hospitality / travel</th>\n",
       "      <th>job_law / legal services</th>\n",
       "      <th>...</th>\n",
       "      <th>education_space camp</th>\n",
       "      <th>education_two-year college</th>\n",
       "      <th>education_working on college/university</th>\n",
       "      <th>education_working on high school</th>\n",
       "      <th>education_working on law school</th>\n",
       "      <th>education_working on masters program</th>\n",
       "      <th>education_working on med school</th>\n",
       "      <th>education_working on ph.d program</th>\n",
       "      <th>education_working on space camp</th>\n",
       "      <th>education_working on two-year college</th>\n",
       "    </tr>\n",
       "  </thead>\n",
       "  <tbody>\n",
       "    <tr>\n",
       "      <th>1</th>\n",
       "      <td>80000.0</td>\n",
       "      <td>0</td>\n",
       "      <td>0</td>\n",
       "      <td>0</td>\n",
       "      <td>0</td>\n",
       "      <td>0</td>\n",
       "      <td>0</td>\n",
       "      <td>0</td>\n",
       "      <td>1</td>\n",
       "      <td>0</td>\n",
       "      <td>...</td>\n",
       "      <td>0</td>\n",
       "      <td>0</td>\n",
       "      <td>0</td>\n",
       "      <td>0</td>\n",
       "      <td>0</td>\n",
       "      <td>0</td>\n",
       "      <td>0</td>\n",
       "      <td>0</td>\n",
       "      <td>1</td>\n",
       "      <td>0</td>\n",
       "    </tr>\n",
       "    <tr>\n",
       "      <th>3</th>\n",
       "      <td>20000.0</td>\n",
       "      <td>0</td>\n",
       "      <td>0</td>\n",
       "      <td>0</td>\n",
       "      <td>0</td>\n",
       "      <td>0</td>\n",
       "      <td>0</td>\n",
       "      <td>0</td>\n",
       "      <td>0</td>\n",
       "      <td>0</td>\n",
       "      <td>...</td>\n",
       "      <td>0</td>\n",
       "      <td>0</td>\n",
       "      <td>1</td>\n",
       "      <td>0</td>\n",
       "      <td>0</td>\n",
       "      <td>0</td>\n",
       "      <td>0</td>\n",
       "      <td>0</td>\n",
       "      <td>0</td>\n",
       "      <td>0</td>\n",
       "    </tr>\n",
       "    <tr>\n",
       "      <th>11</th>\n",
       "      <td>40000.0</td>\n",
       "      <td>1</td>\n",
       "      <td>0</td>\n",
       "      <td>0</td>\n",
       "      <td>0</td>\n",
       "      <td>0</td>\n",
       "      <td>0</td>\n",
       "      <td>0</td>\n",
       "      <td>0</td>\n",
       "      <td>0</td>\n",
       "      <td>...</td>\n",
       "      <td>0</td>\n",
       "      <td>0</td>\n",
       "      <td>0</td>\n",
       "      <td>0</td>\n",
       "      <td>0</td>\n",
       "      <td>0</td>\n",
       "      <td>0</td>\n",
       "      <td>0</td>\n",
       "      <td>0</td>\n",
       "      <td>0</td>\n",
       "    </tr>\n",
       "    <tr>\n",
       "      <th>13</th>\n",
       "      <td>30000.0</td>\n",
       "      <td>0</td>\n",
       "      <td>0</td>\n",
       "      <td>0</td>\n",
       "      <td>0</td>\n",
       "      <td>0</td>\n",
       "      <td>0</td>\n",
       "      <td>0</td>\n",
       "      <td>0</td>\n",
       "      <td>0</td>\n",
       "      <td>...</td>\n",
       "      <td>0</td>\n",
       "      <td>0</td>\n",
       "      <td>0</td>\n",
       "      <td>0</td>\n",
       "      <td>0</td>\n",
       "      <td>0</td>\n",
       "      <td>0</td>\n",
       "      <td>0</td>\n",
       "      <td>0</td>\n",
       "      <td>0</td>\n",
       "    </tr>\n",
       "    <tr>\n",
       "      <th>14</th>\n",
       "      <td>50000.0</td>\n",
       "      <td>0</td>\n",
       "      <td>0</td>\n",
       "      <td>0</td>\n",
       "      <td>0</td>\n",
       "      <td>0</td>\n",
       "      <td>0</td>\n",
       "      <td>0</td>\n",
       "      <td>0</td>\n",
       "      <td>0</td>\n",
       "      <td>...</td>\n",
       "      <td>0</td>\n",
       "      <td>0</td>\n",
       "      <td>1</td>\n",
       "      <td>0</td>\n",
       "      <td>0</td>\n",
       "      <td>0</td>\n",
       "      <td>0</td>\n",
       "      <td>0</td>\n",
       "      <td>0</td>\n",
       "      <td>0</td>\n",
       "    </tr>\n",
       "  </tbody>\n",
       "</table>\n",
       "<p>5 rows × 52 columns</p>\n",
       "</div>"
      ],
      "text/plain": [
       "     income  job_banking / financial / real estate  \\\n",
       "1   80000.0                                      0   \n",
       "3   20000.0                                      0   \n",
       "11  40000.0                                      1   \n",
       "13  30000.0                                      0   \n",
       "14  50000.0                                      0   \n",
       "\n",
       "    job_clerical / administrative  job_computer / hardware / software  \\\n",
       "1                               0                                   0   \n",
       "3                               0                                   0   \n",
       "11                              0                                   0   \n",
       "13                              0                                   0   \n",
       "14                              0                                   0   \n",
       "\n",
       "    job_construction / craftsmanship  job_education / academia  \\\n",
       "1                                  0                         0   \n",
       "3                                  0                         0   \n",
       "11                                 0                         0   \n",
       "13                                 0                         0   \n",
       "14                                 0                         0   \n",
       "\n",
       "    job_entertainment / media  job_executive / management  \\\n",
       "1                           0                           0   \n",
       "3                           0                           0   \n",
       "11                          0                           0   \n",
       "13                          0                           0   \n",
       "14                          0                           0   \n",
       "\n",
       "    job_hospitality / travel  job_law / legal services  ...  \\\n",
       "1                          1                         0  ...   \n",
       "3                          0                         0  ...   \n",
       "11                         0                         0  ...   \n",
       "13                         0                         0  ...   \n",
       "14                         0                         0  ...   \n",
       "\n",
       "    education_space camp  education_two-year college  \\\n",
       "1                      0                           0   \n",
       "3                      0                           0   \n",
       "11                     0                           0   \n",
       "13                     0                           0   \n",
       "14                     0                           0   \n",
       "\n",
       "    education_working on college/university  education_working on high school  \\\n",
       "1                                         0                                 0   \n",
       "3                                         1                                 0   \n",
       "11                                        0                                 0   \n",
       "13                                        0                                 0   \n",
       "14                                        1                                 0   \n",
       "\n",
       "    education_working on law school  education_working on masters program  \\\n",
       "1                                 0                                     0   \n",
       "3                                 0                                     0   \n",
       "11                                0                                     0   \n",
       "13                                0                                     0   \n",
       "14                                0                                     0   \n",
       "\n",
       "    education_working on med school  education_working on ph.d program  \\\n",
       "1                                 0                                  0   \n",
       "3                                 0                                  0   \n",
       "11                                0                                  0   \n",
       "13                                0                                  0   \n",
       "14                                0                                  0   \n",
       "\n",
       "    education_working on space camp  education_working on two-year college  \n",
       "1                                 1                                      0  \n",
       "3                                 0                                      0  \n",
       "11                                0                                      0  \n",
       "13                                0                                      0  \n",
       "14                                0                                      0  \n",
       "\n",
       "[5 rows x 52 columns]"
      ]
     },
     "execution_count": 12,
     "metadata": {},
     "output_type": "execute_result"
    }
   ],
   "source": [
    "selected_features = ['income', 'job', 'sex', 'education']\n",
    "df_copy3 = df_copy3[selected_features].dropna()\n",
    "\n",
    "#convert 'job', 'sex' and 'education' into dummy variables\n",
    "categoricalCols = ['job', 'sex', 'education']\n",
    "\n",
    "for col in categoricalCols:\n",
    "    df_copy3 = pd.get_dummies(df_copy3, columns=[col], prefix = [col], drop_first =True)\n",
    "\n",
    "print(df_copy3.shape)\n",
    "\n",
    "df_copy3.head()"
   ]
  },
  {
   "cell_type": "code",
   "execution_count": 13,
   "metadata": {},
   "outputs": [],
   "source": [
    "#Y is the target column, X has the features\n",
    "X = df_copy3.iloc[:, 1:]\n",
    "y = df_copy3['income']\n",
    "\n",
    "#Split the data into training set and test set\n",
    "X_train, X_test, y_train, y_test = train_test_split(X, y, test_size=0.2, random_state = 0)\n",
    "\n",
    "#Pandas Series.ravel() function returns the flattened underlying data as an ndarray(1d array)\n",
    "y_train = y_train.ravel()\n",
    "y_test = y_test.ravel()\n",
    "\n",
    "#scaler = MinMaxScaler()\n",
    "#X_train_scaled = scaler.fit_transform(X_train) \n",
    "#X_test_scaled = scaler.fit_transform(X_test)"
   ]
  },
  {
   "cell_type": "markdown",
   "metadata": {},
   "source": [
    "#### K Nearest Neighbor"
   ]
  },
  {
   "cell_type": "code",
   "execution_count": 32,
   "metadata": {},
   "outputs": [
    {
     "data": {
      "image/png": "[encoded data removed]",
      "text/plain": [
       "<Figure size 432x288 with 1 Axes>"
      ]
     },
     "metadata": {
      "needs_background": "light"
     },
     "output_type": "display_data"
    },
    {
     "name": "stdout",
     "output_type": "stream",
     "text": [
      "Best K for best accuracy is: 55\n"
     ]
    }
   ],
   "source": [
    "accuracies = []\n",
    "k_list = list(range(1,101))\n",
    "\n",
    "for k in range(1,101):\n",
    "    KNNmodel = KNeighborsClassifier(n_neighbors = k)\n",
    "    KNNmodel.fit(X_train, y_train)\n",
    "    accuracies.append(KNNmodel.score(X_test, y_test))\n",
    "    \n",
    "    \n",
    "plt.plot(k_list, accuracies)\n",
    "plt.xlabel(\"k\")\n",
    "plt.ylabel(\"Test set Accuracy\")\n",
    "plt.title(\"Accuracy of Model on Test Set\")\n",
    "plt.show()\n",
    "\n",
    "l_np = np.asarray(accuracies)\n",
    "\n",
    "print(f\"Best K for best accuracy is: {l_np.argmax()+1}\")"
   ]
  },
  {
   "cell_type": "code",
   "execution_count": 14,
   "metadata": {},
   "outputs": [],
   "source": [
    "KNNmodel = KNeighborsClassifier(n_neighbors = 55).fit(X_train, y_train)\n",
    "KNN_predictions = KNNmodel.predict(X_test)"
   ]
  },
  {
   "cell_type": "code",
   "execution_count": 17,
   "metadata": {},
   "outputs": [
    {
     "name": "stdout",
     "output_type": "stream",
     "text": [
      "              precision    recall  f1-score   support\n",
      "\n",
      "     20000.0       0.44      0.92      0.59       537\n",
      "     30000.0       0.12      0.01      0.02       177\n",
      "     40000.0       0.14      0.02      0.03       186\n",
      "     50000.0       0.16      0.10      0.12       171\n",
      "     60000.0       0.00      0.00      0.00       122\n",
      "     70000.0       0.17      0.02      0.04       147\n",
      "     80000.0       0.17      0.04      0.06       208\n",
      "    100000.0       0.30      0.58      0.40       302\n",
      "    150000.0       0.17      0.18      0.17       131\n",
      "    250000.0       0.00      0.00      0.00        23\n",
      "    500000.0       0.00      0.00      0.00        11\n",
      "   1000000.0       0.18      0.02      0.04        93\n",
      "\n",
      "    accuracy                           0.35      2108\n",
      "   macro avg       0.15      0.16      0.12      2108\n",
      "weighted avg       0.24      0.35      0.24      2108\n",
      "\n",
      "The accuracy of model on training data is: 37.0%\n"
     ]
    }
   ],
   "source": [
    "training_accuracy = KNNmodel.score(X_train, y_train)\n",
    "\n",
    "print(classification_report(y_test, KNN_predictions))\n",
    "\n",
    "print(\"The accuracy of model on training data is: {}%\".format(round(training_accuracy, 2) *100))\n"
   ]
  },
  {
   "cell_type": "markdown",
   "metadata": {},
   "source": [
    "#### Decision Tree Classifier"
   ]
  },
  {
   "cell_type": "code",
   "execution_count": 16,
   "metadata": {},
   "outputs": [
    {
     "name": "stdout",
     "output_type": "stream",
     "text": [
      "Tuned Decision Tree Parameters: {'criterion': 'gini', 'max_depth': 18, 'min_samples_leaf': 3}\n",
      "Best score is 0.3580931462101932\n"
     ]
    }
   ],
   "source": [
    "param_grid = {\"max_depth\": [8, 12, 18, 24, None],\n",
    "              \"min_samples_leaf\": range(1, 9),\n",
    "              \"criterion\": [\"gini\", \"entropy\"]}\n",
    "\n",
    "DTmodel = DecisionTreeClassifier()\n",
    "\n",
    "tree_cv = GridSearchCV(DTmodel, param_grid, cv = 5)\n",
    "\n",
    "tree_cv.fit(X_train, y_train)\n",
    "\n",
    "# Print the tuned parameters and score\n",
    "print(\"Tuned Decision Tree Parameters: {}\".format(tree_cv.best_params_))\n",
    "print(\"Best score is {}\".format(tree_cv.best_score_))"
   ]
  },
  {
   "cell_type": "code",
   "execution_count": 18,
   "metadata": {},
   "outputs": [
    {
     "name": "stdout",
     "output_type": "stream",
     "text": [
      "The accuracy of model on training data is: 39.0%\n",
      "\n",
      "              precision    recall  f1-score   support\n",
      "\n",
      "     20000.0       0.43      0.89      0.58       537\n",
      "     30000.0       0.09      0.02      0.03       177\n",
      "     40000.0       0.17      0.05      0.08       186\n",
      "     50000.0       0.17      0.10      0.12       171\n",
      "     60000.0       0.00      0.00      0.00       122\n",
      "     70000.0       0.22      0.01      0.03       147\n",
      "     80000.0       0.20      0.03      0.06       208\n",
      "    100000.0       0.30      0.63      0.41       302\n",
      "    150000.0       0.23      0.12      0.16       131\n",
      "    250000.0       0.00      0.00      0.00        23\n",
      "    500000.0       0.00      0.00      0.00        11\n",
      "   1000000.0       0.13      0.02      0.04        93\n",
      "\n",
      "    accuracy                           0.34      2108\n",
      "   macro avg       0.16      0.16      0.12      2108\n",
      "weighted avg       0.24      0.34      0.24      2108\n",
      "\n"
     ]
    }
   ],
   "source": [
    "DTmodel = DecisionTreeClassifier(criterion =  'gini' , max_depth =  18, min_samples_leaf = 3)\n",
    "\n",
    "DTmodel.fit(X_train, y_train)\n",
    "\n",
    "training_accuracy = DTmodel.score(X_train, y_train)\n",
    "\n",
    "print(\"The accuracy of model on training data is: {}%\".format(round(training_accuracy, 2) *100))\n",
    "print()\n",
    "\n",
    "predictions = DTmodel.predict(X_test)\n",
    "\n",
    "print(classification_report(y_test, predictions))"
   ]
  },
  {
   "cell_type": "code",
   "execution_count": 19,
   "metadata": {},
   "outputs": [
    {
     "name": "stdout",
     "output_type": "stream",
     "text": [
      "The accuracy of model on training data is: 37.0%\n",
      "\n",
      "              precision    recall  f1-score   support\n",
      "\n",
      "     20000.0       0.48      0.88      0.62       537\n",
      "     30000.0       0.11      0.01      0.01       177\n",
      "     40000.0       0.14      0.03      0.05       186\n",
      "     50000.0       0.16      0.12      0.13       171\n",
      "     60000.0       0.10      0.02      0.03       122\n",
      "     70000.0       0.13      0.01      0.02       147\n",
      "     80000.0       0.20      0.08      0.11       208\n",
      "    100000.0       0.29      0.77      0.42       302\n",
      "    150000.0       0.25      0.02      0.03       131\n",
      "    250000.0       0.00      0.00      0.00        23\n",
      "    500000.0       0.00      0.00      0.00        11\n",
      "   1000000.0       0.08      0.02      0.03        93\n",
      "\n",
      "    accuracy                           0.36      2108\n",
      "   macro avg       0.16      0.16      0.12      2108\n",
      "weighted avg       0.25      0.36      0.25      2108\n",
      "\n"
     ]
    }
   ],
   "source": [
    "SVCmodel = SVC(kernel = 'linear', C = 1)\n",
    "\n",
    "SVCmodel.fit(X_train, y_train)\n",
    "\n",
    "training_accuracy = SVCmodel.score(X_train, y_train)\n",
    "\n",
    "print(\"The accuracy of model on training data is: {}%\".format(round(training_accuracy, 2) *100))\n",
    "print()\n",
    "\n",
    "predictions = SVCmodel.predict(X_test)\n",
    "\n",
    "print(classification_report(y_test, predictions))"
   ]
  },
  {
   "cell_type": "markdown",
   "metadata": {},
   "source": [
    "#### Logistic Regression"
   ]
  },
  {
   "cell_type": "code",
   "execution_count": 20,
   "metadata": {},
   "outputs": [
    {
     "name": "stdout",
     "output_type": "stream",
     "text": [
      "The accuracy of model on training data is: 37.0%\n",
      "\n",
      "              precision    recall  f1-score   support\n",
      "\n",
      "     20000.0       0.47      0.88      0.61       537\n",
      "     30000.0       0.14      0.03      0.05       177\n",
      "     40000.0       0.10      0.01      0.02       186\n",
      "     50000.0       0.19      0.10      0.13       171\n",
      "     60000.0       0.00      0.00      0.00       122\n",
      "     70000.0       0.09      0.01      0.01       147\n",
      "     80000.0       0.17      0.07      0.10       208\n",
      "    100000.0       0.29      0.73      0.41       302\n",
      "    150000.0       0.21      0.10      0.14       131\n",
      "    250000.0       0.00      0.00      0.00        23\n",
      "    500000.0       0.00      0.00      0.00        11\n",
      "   1000000.0       0.24      0.04      0.07        93\n",
      "\n",
      "    accuracy                           0.36      2108\n",
      "   macro avg       0.16      0.16      0.13      2108\n",
      "weighted avg       0.24      0.36      0.25      2108\n",
      "\n"
     ]
    }
   ],
   "source": [
    "logReg_model = LogisticRegression(multi_class= \"multinomial\")\n",
    "\n",
    "logReg_model.fit(X_train, y_train)\n",
    "\n",
    "training_accuracy = logReg_model.score(X_train, y_train)\n",
    "\n",
    "print(\"The accuracy of model on training data is: {}%\".format(round(training_accuracy, 2) *100))\n",
    "print()\n",
    "\n",
    "predictions = logReg_model.predict(X_test)\n",
    "\n",
    "print(classification_report(y_test, predictions))"
   ]
  },
  {
   "cell_type": "markdown",
   "metadata": {},
   "source": [
    "We can see that Logistic Regression and svc models have the best accuracy by 36% on test set, KNN has 35% accuracy and decision tree classifier has the least accuracy with 34%.All the four models have almost the same accuracy that is under 50% which tells us that we can not predict the income of user by his job, sex and education."
   ]
  },
  {
   "cell_type": "markdown",
   "metadata": {},
   "source": [
    "### Question 4: Can we predict the sex of the users based on age and body type?"
   ]
  },
  {
   "cell_type": "code",
   "execution_count": 65,
   "metadata": {},
   "outputs": [
    {
     "name": "stdout",
     "output_type": "stream",
     "text": [
      "(54650, 14)\n"
     ]
    },
    {
     "data": {
      "text/html": [
       "<div>\n",
       "<style scoped>\n",
       "    .dataframe tbody tr th:only-of-type {\n",
       "        vertical-align: middle;\n",
       "    }\n",
       "\n",
       "    .dataframe tbody tr th {\n",
       "        vertical-align: top;\n",
       "    }\n",
       "\n",
       "    .dataframe thead th {\n",
       "        text-align: right;\n",
       "    }\n",
       "</style>\n",
       "<table border=\"1\" class=\"dataframe\">\n",
       "  <thead>\n",
       "    <tr style=\"text-align: right;\">\n",
       "      <th></th>\n",
       "      <th>sex</th>\n",
       "      <th>height</th>\n",
       "      <th>body_type_a little extra</th>\n",
       "      <th>body_type_athletic</th>\n",
       "      <th>body_type_average</th>\n",
       "      <th>body_type_curvy</th>\n",
       "      <th>body_type_fit</th>\n",
       "      <th>body_type_full figured</th>\n",
       "      <th>body_type_jacked</th>\n",
       "      <th>body_type_overweight</th>\n",
       "      <th>body_type_rather not say</th>\n",
       "      <th>body_type_skinny</th>\n",
       "      <th>body_type_thin</th>\n",
       "      <th>body_type_used up</th>\n",
       "    </tr>\n",
       "  </thead>\n",
       "  <tbody>\n",
       "    <tr>\n",
       "      <th>0</th>\n",
       "      <td>m</td>\n",
       "      <td>75.0</td>\n",
       "      <td>1</td>\n",
       "      <td>0</td>\n",
       "      <td>0</td>\n",
       "      <td>0</td>\n",
       "      <td>0</td>\n",
       "      <td>0</td>\n",
       "      <td>0</td>\n",
       "      <td>0</td>\n",
       "      <td>0</td>\n",
       "      <td>0</td>\n",
       "      <td>0</td>\n",
       "      <td>0</td>\n",
       "    </tr>\n",
       "    <tr>\n",
       "      <th>1</th>\n",
       "      <td>m</td>\n",
       "      <td>70.0</td>\n",
       "      <td>0</td>\n",
       "      <td>0</td>\n",
       "      <td>1</td>\n",
       "      <td>0</td>\n",
       "      <td>0</td>\n",
       "      <td>0</td>\n",
       "      <td>0</td>\n",
       "      <td>0</td>\n",
       "      <td>0</td>\n",
       "      <td>0</td>\n",
       "      <td>0</td>\n",
       "      <td>0</td>\n",
       "    </tr>\n",
       "    <tr>\n",
       "      <th>2</th>\n",
       "      <td>m</td>\n",
       "      <td>68.0</td>\n",
       "      <td>0</td>\n",
       "      <td>0</td>\n",
       "      <td>0</td>\n",
       "      <td>0</td>\n",
       "      <td>0</td>\n",
       "      <td>0</td>\n",
       "      <td>0</td>\n",
       "      <td>0</td>\n",
       "      <td>0</td>\n",
       "      <td>0</td>\n",
       "      <td>1</td>\n",
       "      <td>0</td>\n",
       "    </tr>\n",
       "    <tr>\n",
       "      <th>3</th>\n",
       "      <td>m</td>\n",
       "      <td>71.0</td>\n",
       "      <td>0</td>\n",
       "      <td>0</td>\n",
       "      <td>0</td>\n",
       "      <td>0</td>\n",
       "      <td>0</td>\n",
       "      <td>0</td>\n",
       "      <td>0</td>\n",
       "      <td>0</td>\n",
       "      <td>0</td>\n",
       "      <td>0</td>\n",
       "      <td>1</td>\n",
       "      <td>0</td>\n",
       "    </tr>\n",
       "    <tr>\n",
       "      <th>4</th>\n",
       "      <td>m</td>\n",
       "      <td>66.0</td>\n",
       "      <td>0</td>\n",
       "      <td>1</td>\n",
       "      <td>0</td>\n",
       "      <td>0</td>\n",
       "      <td>0</td>\n",
       "      <td>0</td>\n",
       "      <td>0</td>\n",
       "      <td>0</td>\n",
       "      <td>0</td>\n",
       "      <td>0</td>\n",
       "      <td>0</td>\n",
       "      <td>0</td>\n",
       "    </tr>\n",
       "  </tbody>\n",
       "</table>\n",
       "</div>"
      ],
      "text/plain": [
       "  sex  height  body_type_a little extra  body_type_athletic  \\\n",
       "0   m    75.0                         1                   0   \n",
       "1   m    70.0                         0                   0   \n",
       "2   m    68.0                         0                   0   \n",
       "3   m    71.0                         0                   0   \n",
       "4   m    66.0                         0                   1   \n",
       "\n",
       "   body_type_average  body_type_curvy  body_type_fit  body_type_full figured  \\\n",
       "0                  0                0              0                       0   \n",
       "1                  1                0              0                       0   \n",
       "2                  0                0              0                       0   \n",
       "3                  0                0              0                       0   \n",
       "4                  0                0              0                       0   \n",
       "\n",
       "   body_type_jacked  body_type_overweight  body_type_rather not say  \\\n",
       "0                 0                     0                         0   \n",
       "1                 0                     0                         0   \n",
       "2                 0                     0                         0   \n",
       "3                 0                     0                         0   \n",
       "4                 0                     0                         0   \n",
       "\n",
       "   body_type_skinny  body_type_thin  body_type_used up  \n",
       "0                 0               0                  0  \n",
       "1                 0               0                  0  \n",
       "2                 0               1                  0  \n",
       "3                 0               1                  0  \n",
       "4                 0               0                  0  "
      ]
     },
     "execution_count": 65,
     "metadata": {},
     "output_type": "execute_result"
    }
   ],
   "source": [
    "#create copy of dataframe to do the changes only to a copy of data\n",
    "df_copy4 = df\n",
    "\n",
    "selected_features = ['sex', 'body_type', 'height']\n",
    "df_copy4 = df_copy4[selected_features].dropna()\n",
    "\n",
    "#height and 'body_type'\n",
    "\n",
    "#convert 'body_type' into dummy variable\n",
    "df_copy4 = pd.get_dummies(df_copy4, columns=['body_type'], prefix = ['body_type'])\n",
    "\n",
    "print(df_copy4.shape)\n",
    "\n",
    "df_copy4.head()"
   ]
  },
  {
   "cell_type": "code",
   "execution_count": 85,
   "metadata": {},
   "outputs": [],
   "source": [
    "#Y is the target column, X has the features\n",
    "X = df_copy4.iloc[:, 1:]\n",
    "y = df_copy4['sex']\n",
    "\n",
    "#Split the data into training set and test set\n",
    "X_train, X_test, y_train, y_test = train_test_split(X, y, test_size=0.2, random_state = 0)\n",
    "\n",
    "#Pandas Series.ravel() function returns the flattened underlying data as an ndarray(1d array)\n",
    "y_train = y_train.ravel()\n",
    "y_test = y_test.ravel()\n",
    "\n",
    "scaler = StandardScaler()\n",
    "\n",
    "# standardization \n",
    "X_train_scaled = scaler.fit_transform(X_train) \n",
    "X_test_scaled = scaler.fit_transform(X_test)\n",
    "\n",
    "scaler2 = MinMaxScaler()\n",
    " \n",
    "# normalization \n",
    "X_train_normalized = scaler2.fit_transform(X_train) \n",
    "X_test_normalized = scaler2.fit_transform(X_test)\n"
   ]
  },
  {
   "cell_type": "markdown",
   "metadata": {},
   "source": [
    "#### Multinomial Naive Bayes"
   ]
  },
  {
   "cell_type": "markdown",
   "metadata": {},
   "source": [
    "Since Multinomial Naive Bayes does not accept negative values, I use MinMaxScaler for scaling instead of using standardization. MinMaxScaler values are between o and 1."
   ]
  },
  {
   "cell_type": "code",
   "execution_count": 87,
   "metadata": {},
   "outputs": [
    {
     "name": "stdout",
     "output_type": "stream",
     "text": [
      "              precision    recall  f1-score   support\n",
      "\n",
      "           f       0.74      0.34      0.47      4259\n",
      "           m       0.69      0.92      0.79      6671\n",
      "\n",
      "    accuracy                           0.70     10930\n",
      "   macro avg       0.71      0.63      0.63     10930\n",
      "weighted avg       0.71      0.70      0.66     10930\n",
      "\n",
      "\n",
      "The runtime of Multinomial Naive Bayes model is: 0.34425 seconds\n",
      "\n",
      "The accuracy of model on training data is: 69.0%\n"
     ]
    }
   ],
   "source": [
    "start_time = time.time()\n",
    "\n",
    "NBmodel = MultinomialNB()\n",
    "#NBmodel = GaussianNB()\n",
    "\n",
    "NBmodel.fit(X_train_normalized, y_train)\n",
    "\n",
    "training_accuracy = NBmodel.score(X_train_normalized, y_train)\n",
    "\n",
    "predictions = NBmodel.predict(X_test_normalized)\n",
    "\n",
    "print(classification_report(y_test, predictions))\n",
    "print()\n",
    "\n",
    "end_time = time.time()\n",
    "\n",
    "runtime =  end_time - start_time\n",
    "\n",
    "print(f\"The runtime of Multinomial Naive Bayes model is: {round(runtime, 5)} seconds\")\n",
    "print()\n",
    "\n",
    "print(\"The accuracy of model on training data is: {}%\".format(round(training_accuracy, 2) *100))"
   ]
  },
  {
   "cell_type": "markdown",
   "metadata": {},
   "source": [
    "#### KNN"
   ]
  },
  {
   "cell_type": "code",
   "execution_count": 29,
   "metadata": {},
   "outputs": [
    {
     "data": {
      "image/png": "[encoded data removed]",
      "text/plain": [
       "<Figure size 432x288 with 1 Axes>"
      ]
     },
     "metadata": {
      "needs_background": "light"
     },
     "output_type": "display_data"
    },
    {
     "name": "stdout",
     "output_type": "stream",
     "text": [
      "Best K for best accuracy is: 45\n"
     ]
    }
   ],
   "source": [
    "accuracies = []\n",
    "k_list = list(range(1,101))\n",
    "\n",
    "for k in range(1,101):\n",
    "    KNNmodel = KNeighborsClassifier(n_neighbors = k)\n",
    "    KNNmodel.fit(X_train_scaled, y_train)\n",
    "    accuracies.append(KNNmodel.score(X_test_scaled, y_test))\n",
    "    \n",
    "    \n",
    "plt.plot(k_list, accuracies)\n",
    "plt.xlabel(\"k\")\n",
    "plt.ylabel(\"Test set Accuracy\")\n",
    "plt.title(\"Accuracy of Model on Test Set\")\n",
    "plt.show()\n",
    "\n",
    "l_np = np.asarray(accuracies)\n",
    "\n",
    "print(f\"Best K for best accuracy is: {l_np.argmax()+1}\")"
   ]
  },
  {
   "cell_type": "code",
   "execution_count": 88,
   "metadata": {},
   "outputs": [
    {
     "name": "stdout",
     "output_type": "stream",
     "text": [
      "              precision    recall  f1-score   support\n",
      "\n",
      "           f       0.84      0.78      0.81      4259\n",
      "           m       0.87      0.90      0.88      6671\n",
      "\n",
      "    accuracy                           0.86     10930\n",
      "   macro avg       0.85      0.84      0.85     10930\n",
      "weighted avg       0.85      0.86      0.85     10930\n",
      "\n",
      "\n",
      "The runtime of K Nearest Neighbor model is: 24.99098 seconds\n",
      "\n",
      "The accuracy of model on training data is: 85.0%\n"
     ]
    }
   ],
   "source": [
    "start_time = time.time()\n",
    "\n",
    "KNNmodel = KNeighborsClassifier(n_neighbors = 45).fit(X_train_scaled, y_train)\n",
    "KNN_predictions = KNNmodel.predict(X_test_scaled)\n",
    "\n",
    "training_accuracy = KNNmodel.score(X_train_scaled, y_train)\n",
    "\n",
    "print(classification_report(y_test, KNN_predictions))\n",
    "\n",
    "end_time = time.time()\n",
    "\n",
    "runtime =  end_time - start_time\n",
    "\n",
    "print()\n",
    "\n",
    "print(f\"The runtime of K Nearest Neighbor model is: {round(runtime, 5)} seconds\")\n",
    "print()\n",
    "\n",
    "print(\"The accuracy of model on training data is: {}%\".format(round(training_accuracy, 2) *100))"
   ]
  },
  {
   "cell_type": "markdown",
   "metadata": {},
   "source": [
    "#### Decision Tree Classifier"
   ]
  },
  {
   "cell_type": "code",
   "execution_count": 69,
   "metadata": {},
   "outputs": [
    {
     "name": "stdout",
     "output_type": "stream",
     "text": [
      "Tuned Decision Tree Parameters: {'criterion': 'gini', 'max_depth': 8, 'min_samples_leaf': 4}\n",
      "Best score is 0.8833142857142857\n"
     ]
    }
   ],
   "source": [
    "param_grid = {\"max_depth\": [8, 12, 18, 20, None],\n",
    "              \"min_samples_leaf\": list(range(1, 9)),\n",
    "              \"criterion\": [\"gini\", \"entropy\"]}\n",
    "\n",
    "DTmodel = DecisionTreeClassifier()\n",
    "\n",
    "tree_cv = GridSearchCV(DTmodel, param_grid, cv = 5)\n",
    "\n",
    "tree_cv.fit(X_train_scaled, y_train)\n",
    "\n",
    "# Print the tuned parameters and score\n",
    "print(\"Tuned Decision Tree Parameters: {}\".format(tree_cv.best_params_))\n",
    "print(\"Best score is {}\".format(tree_cv.best_score_))"
   ]
  },
  {
   "cell_type": "code",
   "execution_count": 89,
   "metadata": {},
   "outputs": [
    {
     "name": "stdout",
     "output_type": "stream",
     "text": [
      "              precision    recall  f1-score   support\n",
      "\n",
      "           f       0.85      0.77      0.81      4259\n",
      "           m       0.86      0.91      0.89      6671\n",
      "\n",
      "    accuracy                           0.86     10930\n",
      "   macro avg       0.85      0.84      0.85     10930\n",
      "weighted avg       0.86      0.86      0.85     10930\n",
      "\n",
      "The runtime of Decision Tree model is: 0.42322 seconds\n",
      "\n",
      "The accuracy of model on training data is: 86.0%\n"
     ]
    }
   ],
   "source": [
    "start_time = time.time()\n",
    "\n",
    "DTmodel = DecisionTreeClassifier(criterion = 'gini', max_depth = 8, min_samples_leaf = 4)\n",
    "\n",
    "DTmodel.fit(X_train_scaled, y_train)\n",
    "\n",
    "training_accuracy = DTmodel.score(X_train_scaled, y_train)\n",
    "\n",
    "predictions = DTmodel.predict(X_test_scaled)\n",
    "\n",
    "print(classification_report(y_test, predictions))\n",
    "\n",
    "end_time = time.time()\n",
    "\n",
    "runtime =  end_time - start_time\n",
    "\n",
    "print(f\"The runtime of Decision Tree model is: {round(runtime, 5)} seconds\")\n",
    "print()\n",
    "\n",
    "print(\"The accuracy of model on training data is: {}%\".format(round(training_accuracy, 2) *100))\n",
    "\n",
    "#print(DTmodel.get_depth())"
   ]
  },
  {
   "cell_type": "markdown",
   "metadata": {},
   "source": [
    "#### SVM"
   ]
  },
  {
   "cell_type": "code",
   "execution_count": 94,
   "metadata": {},
   "outputs": [
    {
     "name": "stdout",
     "output_type": "stream",
     "text": [
      "              precision    recall  f1-score   support\n",
      "\n",
      "           f       0.79      0.84      0.81      4259\n",
      "           m       0.90      0.86      0.88      6671\n",
      "\n",
      "    accuracy                           0.85     10930\n",
      "   macro avg       0.84      0.85      0.85     10930\n",
      "weighted avg       0.85      0.85      0.85     10930\n",
      "\n",
      "The runtime of SVM model is: 31.79644 seconds\n",
      "\n",
      "The accuracy of model on training data is: 86.0%\n"
     ]
    }
   ],
   "source": [
    "start_time = time.time()\n",
    "\n",
    "SVCmodel = SVC(kernel = 'linear', C = 1)\n",
    "\n",
    "SVCmodel.fit(X_train_scaled, y_train)\n",
    "\n",
    "training_accuracy = SVCmodel.score(X_train_scaled, y_train)\n",
    "\n",
    "predictions = SVCmodel.predict(X_test_scaled)\n",
    "\n",
    "print(classification_report(y_test, predictions))\n",
    "\n",
    "end_time = time.time()\n",
    "\n",
    "runtime =  end_time - start_time\n",
    "\n",
    "print(f\"The runtime of SVM model is: {round(runtime, 5)} seconds\")\n",
    "print()\n",
    "\n",
    "print(\"The accuracy of model on training data is: {}%\".format(round(training_accuracy, 2) *100))"
   ]
  },
  {
   "cell_type": "markdown",
   "metadata": {},
   "source": [
    "#### Logistic Regression"
   ]
  },
  {
   "cell_type": "code",
   "execution_count": 91,
   "metadata": {},
   "outputs": [
    {
     "name": "stdout",
     "output_type": "stream",
     "text": [
      "              precision    recall  f1-score   support\n",
      "\n",
      "           f       0.84      0.78      0.81      4259\n",
      "           m       0.87      0.90      0.88      6671\n",
      "\n",
      "    accuracy                           0.86     10930\n",
      "   macro avg       0.85      0.84      0.85     10930\n",
      "weighted avg       0.85      0.86      0.85     10930\n",
      "\n",
      "The runtime of Logistic Regression model is: 0.65324 seconds\n",
      "\n",
      "The accuracy of model on training data is: 86.0%\n"
     ]
    }
   ],
   "source": [
    "start_time = time.time()\n",
    "\n",
    "logReg_model = LogisticRegression(multi_class= \"multinomial\")\n",
    "\n",
    "logReg_model.fit(X_train_scaled, y_train)\n",
    "\n",
    "training_accuracy = logReg_model.score(X_train_scaled, y_train)\n",
    "\n",
    "predictions = logReg_model.predict(X_test_scaled)\n",
    "\n",
    "print(classification_report(y_test, predictions))\n",
    "\n",
    "\n",
    "end_time = time.time()\n",
    "\n",
    "runtime =  end_time - start_time\n",
    "\n",
    "print(f\"The runtime of Logistic Regression model is: {round(runtime, 5)} seconds\")\n",
    "print()\n",
    "\n",
    "print(\"The accuracy of model on training data is: {}%\".format(round(training_accuracy, 2) *100))"
   ]
  },
  {
   "cell_type": "markdown",
   "metadata": {},
   "source": [
    "For this part I use 5 models: Multinomial Naive Bayes, K Nearest Neighbor, Decision Tree Classifier, Support Vector Machine and Logistic Regression.For all models I got a very good results. The accuracy of Four Models(SVM, Logistic Regression, Decision Tree and KNN) is almost 86%. Multinomial Naive Bayes accuracy(70%) is the lowest between these 5 models.\n",
    "\n",
    "All the five algorithms have a very good accuracy and we can use age and body type to predict the sex of the user."
   ]
  },
  {
   "cell_type": "markdown",
   "metadata": {},
   "source": [
    "I also calculate the runtime of each model to find the fastest and the slowest one. Multinomial Naive Bayes is the fastest model with 0.34425 seconds runtime.The slowest model is Support Vector Machine with 31.79644 seconds. The runtime of these five models from the fastest to the slowest are as follows:\n",
    "\n",
    "- Multinomial Naive Bayes: 0.34425 seconds  \n",
    "- Decision Tree Classifier: 0.42322 seconds\n",
    "- Logistic Regression: 0.65324 seconds\n",
    "- K Nearest Neighbor: 24.99098 seconds\n",
    "- Support Vector Machine: 31.79644 seconds\n"
   ]
  },
  {
   "cell_type": "markdown",
   "metadata": {},
   "source": [
    "### Question 5: Can we predict sex of the user with education level and income?"
   ]
  },
  {
   "cell_type": "code",
   "execution_count": 95,
   "metadata": {},
   "outputs": [
    {
     "name": "stdout",
     "output_type": "stream",
     "text": [
      "(10783, 33)\n"
     ]
    },
    {
     "data": {
      "text/html": [
       "<div>\n",
       "<style scoped>\n",
       "    .dataframe tbody tr th:only-of-type {\n",
       "        vertical-align: middle;\n",
       "    }\n",
       "\n",
       "    .dataframe tbody tr th {\n",
       "        vertical-align: top;\n",
       "    }\n",
       "\n",
       "    .dataframe thead th {\n",
       "        text-align: right;\n",
       "    }\n",
       "</style>\n",
       "<table border=\"1\" class=\"dataframe\">\n",
       "  <thead>\n",
       "    <tr style=\"text-align: right;\">\n",
       "      <th></th>\n",
       "      <th>sex</th>\n",
       "      <th>income</th>\n",
       "      <th>education_college/university</th>\n",
       "      <th>education_dropped out of college/university</th>\n",
       "      <th>education_dropped out of high school</th>\n",
       "      <th>education_dropped out of law school</th>\n",
       "      <th>education_dropped out of masters program</th>\n",
       "      <th>education_dropped out of med school</th>\n",
       "      <th>education_dropped out of ph.d program</th>\n",
       "      <th>education_dropped out of space camp</th>\n",
       "      <th>...</th>\n",
       "      <th>education_space camp</th>\n",
       "      <th>education_two-year college</th>\n",
       "      <th>education_working on college/university</th>\n",
       "      <th>education_working on high school</th>\n",
       "      <th>education_working on law school</th>\n",
       "      <th>education_working on masters program</th>\n",
       "      <th>education_working on med school</th>\n",
       "      <th>education_working on ph.d program</th>\n",
       "      <th>education_working on space camp</th>\n",
       "      <th>education_working on two-year college</th>\n",
       "    </tr>\n",
       "  </thead>\n",
       "  <tbody>\n",
       "    <tr>\n",
       "      <th>1</th>\n",
       "      <td>m</td>\n",
       "      <td>80000.0</td>\n",
       "      <td>0</td>\n",
       "      <td>0</td>\n",
       "      <td>0</td>\n",
       "      <td>0</td>\n",
       "      <td>0</td>\n",
       "      <td>0</td>\n",
       "      <td>0</td>\n",
       "      <td>0</td>\n",
       "      <td>...</td>\n",
       "      <td>0</td>\n",
       "      <td>0</td>\n",
       "      <td>0</td>\n",
       "      <td>0</td>\n",
       "      <td>0</td>\n",
       "      <td>0</td>\n",
       "      <td>0</td>\n",
       "      <td>0</td>\n",
       "      <td>1</td>\n",
       "      <td>0</td>\n",
       "    </tr>\n",
       "    <tr>\n",
       "      <th>3</th>\n",
       "      <td>m</td>\n",
       "      <td>20000.0</td>\n",
       "      <td>0</td>\n",
       "      <td>0</td>\n",
       "      <td>0</td>\n",
       "      <td>0</td>\n",
       "      <td>0</td>\n",
       "      <td>0</td>\n",
       "      <td>0</td>\n",
       "      <td>0</td>\n",
       "      <td>...</td>\n",
       "      <td>0</td>\n",
       "      <td>0</td>\n",
       "      <td>1</td>\n",
       "      <td>0</td>\n",
       "      <td>0</td>\n",
       "      <td>0</td>\n",
       "      <td>0</td>\n",
       "      <td>0</td>\n",
       "      <td>0</td>\n",
       "      <td>0</td>\n",
       "    </tr>\n",
       "    <tr>\n",
       "      <th>11</th>\n",
       "      <td>m</td>\n",
       "      <td>40000.0</td>\n",
       "      <td>0</td>\n",
       "      <td>0</td>\n",
       "      <td>0</td>\n",
       "      <td>0</td>\n",
       "      <td>0</td>\n",
       "      <td>0</td>\n",
       "      <td>0</td>\n",
       "      <td>0</td>\n",
       "      <td>...</td>\n",
       "      <td>0</td>\n",
       "      <td>0</td>\n",
       "      <td>0</td>\n",
       "      <td>0</td>\n",
       "      <td>0</td>\n",
       "      <td>0</td>\n",
       "      <td>0</td>\n",
       "      <td>0</td>\n",
       "      <td>0</td>\n",
       "      <td>0</td>\n",
       "    </tr>\n",
       "    <tr>\n",
       "      <th>13</th>\n",
       "      <td>f</td>\n",
       "      <td>30000.0</td>\n",
       "      <td>0</td>\n",
       "      <td>0</td>\n",
       "      <td>0</td>\n",
       "      <td>0</td>\n",
       "      <td>0</td>\n",
       "      <td>0</td>\n",
       "      <td>0</td>\n",
       "      <td>0</td>\n",
       "      <td>...</td>\n",
       "      <td>0</td>\n",
       "      <td>0</td>\n",
       "      <td>0</td>\n",
       "      <td>0</td>\n",
       "      <td>0</td>\n",
       "      <td>0</td>\n",
       "      <td>0</td>\n",
       "      <td>0</td>\n",
       "      <td>0</td>\n",
       "      <td>0</td>\n",
       "    </tr>\n",
       "    <tr>\n",
       "      <th>14</th>\n",
       "      <td>f</td>\n",
       "      <td>50000.0</td>\n",
       "      <td>0</td>\n",
       "      <td>0</td>\n",
       "      <td>0</td>\n",
       "      <td>0</td>\n",
       "      <td>0</td>\n",
       "      <td>0</td>\n",
       "      <td>0</td>\n",
       "      <td>0</td>\n",
       "      <td>...</td>\n",
       "      <td>0</td>\n",
       "      <td>0</td>\n",
       "      <td>1</td>\n",
       "      <td>0</td>\n",
       "      <td>0</td>\n",
       "      <td>0</td>\n",
       "      <td>0</td>\n",
       "      <td>0</td>\n",
       "      <td>0</td>\n",
       "      <td>0</td>\n",
       "    </tr>\n",
       "  </tbody>\n",
       "</table>\n",
       "<p>5 rows × 33 columns</p>\n",
       "</div>"
      ],
      "text/plain": [
       "   sex   income  education_college/university  \\\n",
       "1    m  80000.0                             0   \n",
       "3    m  20000.0                             0   \n",
       "11   m  40000.0                             0   \n",
       "13   f  30000.0                             0   \n",
       "14   f  50000.0                             0   \n",
       "\n",
       "    education_dropped out of college/university  \\\n",
       "1                                             0   \n",
       "3                                             0   \n",
       "11                                            0   \n",
       "13                                            0   \n",
       "14                                            0   \n",
       "\n",
       "    education_dropped out of high school  education_dropped out of law school  \\\n",
       "1                                      0                                    0   \n",
       "3                                      0                                    0   \n",
       "11                                     0                                    0   \n",
       "13                                     0                                    0   \n",
       "14                                     0                                    0   \n",
       "\n",
       "    education_dropped out of masters program  \\\n",
       "1                                          0   \n",
       "3                                          0   \n",
       "11                                         0   \n",
       "13                                         0   \n",
       "14                                         0   \n",
       "\n",
       "    education_dropped out of med school  \\\n",
       "1                                     0   \n",
       "3                                     0   \n",
       "11                                    0   \n",
       "13                                    0   \n",
       "14                                    0   \n",
       "\n",
       "    education_dropped out of ph.d program  \\\n",
       "1                                       0   \n",
       "3                                       0   \n",
       "11                                      0   \n",
       "13                                      0   \n",
       "14                                      0   \n",
       "\n",
       "    education_dropped out of space camp  ...  education_space camp  \\\n",
       "1                                     0  ...                     0   \n",
       "3                                     0  ...                     0   \n",
       "11                                    0  ...                     0   \n",
       "13                                    0  ...                     0   \n",
       "14                                    0  ...                     0   \n",
       "\n",
       "    education_two-year college  education_working on college/university  \\\n",
       "1                            0                                        0   \n",
       "3                            0                                        1   \n",
       "11                           0                                        0   \n",
       "13                           0                                        0   \n",
       "14                           0                                        1   \n",
       "\n",
       "    education_working on high school  education_working on law school  \\\n",
       "1                                  0                                0   \n",
       "3                                  0                                0   \n",
       "11                                 0                                0   \n",
       "13                                 0                                0   \n",
       "14                                 0                                0   \n",
       "\n",
       "    education_working on masters program  education_working on med school  \\\n",
       "1                                      0                                0   \n",
       "3                                      0                                0   \n",
       "11                                     0                                0   \n",
       "13                                     0                                0   \n",
       "14                                     0                                0   \n",
       "\n",
       "    education_working on ph.d program  education_working on space camp  \\\n",
       "1                                   0                                1   \n",
       "3                                   0                                0   \n",
       "11                                  0                                0   \n",
       "13                                  0                                0   \n",
       "14                                  0                                0   \n",
       "\n",
       "    education_working on two-year college  \n",
       "1                                       0  \n",
       "3                                       0  \n",
       "11                                      0  \n",
       "13                                      0  \n",
       "14                                      0  \n",
       "\n",
       "[5 rows x 33 columns]"
      ]
     },
     "execution_count": 95,
     "metadata": {},
     "output_type": "execute_result"
    }
   ],
   "source": [
    "#create copy of dataframe to do the changes only to a copy of data\n",
    "df_copy5 = df\n",
    "\n",
    "#replace -1 values with nan\n",
    "df_copy5[df_copy5.income==-1]= np.nan\n",
    "\n",
    "selected_features = ['sex', 'education', 'income']\n",
    "df_copy5 = df_copy5[selected_features].dropna()\n",
    "\n",
    "#convert 'education' into dummy variable\n",
    "df_copy5 = pd.get_dummies(df_copy5, columns=['education'], prefix = ['education'])\n",
    "\n",
    "print(df_copy5.shape)\n",
    "\n",
    "df_copy5.head()"
   ]
  },
  {
   "cell_type": "code",
   "execution_count": 96,
   "metadata": {},
   "outputs": [],
   "source": [
    "#Y is the target column, X has the features\n",
    "X = df_copy5.iloc[:, 1:]\n",
    "y = df_copy5['sex']\n",
    "\n",
    "#Split the data into training set and test set\n",
    "X_train, X_test, y_train, y_test = train_test_split(X, y, test_size=0.2, random_state = 0)\n",
    "\n",
    "#Pandas Series.ravel() function returns the flattened underlying data as an ndarray(1d array)\n",
    "y_train = y_train.ravel()\n",
    "y_test = y_test.ravel()\n",
    "\n",
    "#scaler = StandardScaler()\n",
    "\n",
    "scaler = MinMaxScaler()\n",
    " \n",
    "# normalization\n",
    "X_train_scaled = scaler.fit_transform(X_train) \n",
    "X_test_scaled = scaler.fit_transform(X_test)"
   ]
  },
  {
   "cell_type": "markdown",
   "metadata": {},
   "source": [
    "#### Mltinomial Naive Bayes"
   ]
  },
  {
   "cell_type": "code",
   "execution_count": 97,
   "metadata": {},
   "outputs": [
    {
     "name": "stdout",
     "output_type": "stream",
     "text": [
      "The accuracy of model on training data is: 73.0%\n",
      "\n",
      "              precision    recall  f1-score   support\n",
      "\n",
      "           f       0.25      0.00      0.00       613\n",
      "           m       0.72      1.00      0.83      1544\n",
      "\n",
      "    accuracy                           0.71      2157\n",
      "   macro avg       0.48      0.50      0.42      2157\n",
      "weighted avg       0.58      0.71      0.60      2157\n",
      "\n"
     ]
    }
   ],
   "source": [
    "NBmodel = MultinomialNB()\n",
    "\n",
    "NBmodel.fit(X_train_scaled, y_train)\n",
    "\n",
    "training_accuracy = NBmodel.score(X_train_scaled, y_train)\n",
    "\n",
    "print(\"The accuracy of model on training data is: {}%\".format(round(training_accuracy, 2) *100))\n",
    "print()\n",
    "\n",
    "predictions = NBmodel.predict(X_test_scaled)\n",
    "\n",
    "print(classification_report(y_test, predictions))"
   ]
  },
  {
   "cell_type": "markdown",
   "metadata": {},
   "source": [
    "#### KNN"
   ]
  },
  {
   "cell_type": "code",
   "execution_count": 98,
   "metadata": {},
   "outputs": [
    {
     "data": {
      "image/png": "[encoded data removed]",
      "text/plain": [
       "<Figure size 432x288 with 1 Axes>"
      ]
     },
     "metadata": {
      "needs_background": "light"
     },
     "output_type": "display_data"
    },
    {
     "name": "stdout",
     "output_type": "stream",
     "text": [
      "Best K for best accuracy is: 29\n"
     ]
    }
   ],
   "source": [
    "accuracies = []\n",
    "k_list = list(range(1,101))\n",
    "\n",
    "for k in range(1,101):\n",
    "    KNNmodel = KNeighborsClassifier(n_neighbors = k)\n",
    "    KNNmodel.fit(X_train_scaled, y_train)\n",
    "    accuracies.append(KNNmodel.score(X_test_scaled, y_test))\n",
    "    \n",
    "    \n",
    "plt.plot(k_list, accuracies)\n",
    "plt.xlabel(\"k\")\n",
    "plt.ylabel(\"Test set Accuracy\")\n",
    "plt.title(\"Accuracy of Model on Test Set\")\n",
    "plt.show()\n",
    "\n",
    "l_np = np.asarray(accuracies)\n",
    "\n",
    "print(f\"Best K for best accuracy is: {l_np.argmax()+1}\")"
   ]
  },
  {
   "cell_type": "code",
   "execution_count": 99,
   "metadata": {},
   "outputs": [
    {
     "name": "stdout",
     "output_type": "stream",
     "text": [
      "The accuracy of model on training data is: 73.0%\n",
      "\n",
      "              precision    recall  f1-score   support\n",
      "\n",
      "           f       0.57      0.07      0.12       613\n",
      "           m       0.73      0.98      0.83      1544\n",
      "\n",
      "    accuracy                           0.72      2157\n",
      "   macro avg       0.65      0.52      0.48      2157\n",
      "weighted avg       0.68      0.72      0.63      2157\n",
      "\n"
     ]
    }
   ],
   "source": [
    "KNNmodel = KNeighborsClassifier(n_neighbors = 29)\n",
    "\n",
    "KNNmodel.fit(X_train_scaled, y_train)\n",
    "\n",
    "training_accuracy = KNNmodel.score(X_train_scaled, y_train)\n",
    "\n",
    "print(\"The accuracy of model on training data is: {}%\".format(round(training_accuracy, 2) *100))\n",
    "print()\n",
    "\n",
    "predictions = KNNmodel.predict(X_test_scaled)\n",
    "\n",
    "print(classification_report(y_test, predictions))"
   ]
  },
  {
   "cell_type": "markdown",
   "metadata": {},
   "source": [
    "#### Logistic Regression"
   ]
  },
  {
   "cell_type": "code",
   "execution_count": 100,
   "metadata": {},
   "outputs": [
    {
     "name": "stdout",
     "output_type": "stream",
     "text": [
      "The accuracy of model on training data is: 73.0%\n",
      "\n",
      "              precision    recall  f1-score   support\n",
      "\n",
      "           f       0.33      0.00      0.00       613\n",
      "           m       0.72      1.00      0.83      1544\n",
      "\n",
      "    accuracy                           0.72      2157\n",
      "   macro avg       0.52      0.50      0.42      2157\n",
      "weighted avg       0.61      0.72      0.60      2157\n",
      "\n"
     ]
    }
   ],
   "source": [
    "logReg_model = LogisticRegression(multi_class= \"multinomial\")\n",
    "\n",
    "logReg_model.fit(X_train_scaled, y_train)\n",
    "\n",
    "training_accuracy = logReg_model.score(X_train_scaled, y_train)\n",
    "\n",
    "print(\"The accuracy of model on training data is: {}%\".format(round(training_accuracy, 2) *100))\n",
    "print()\n",
    "\n",
    "predictions = logReg_model.predict(X_test_scaled)\n",
    "\n",
    "print(classification_report(y_test, predictions))"
   ]
  },
  {
   "cell_type": "markdown",
   "metadata": {},
   "source": [
    "#### Decision Tree Classifier"
   ]
  },
  {
   "cell_type": "code",
   "execution_count": 101,
   "metadata": {},
   "outputs": [
    {
     "name": "stdout",
     "output_type": "stream",
     "text": [
      "The accuracy of model on training data is: 74.0%\n",
      "\n",
      "              precision    recall  f1-score   support\n",
      "\n",
      "           f       0.42      0.06      0.11       613\n",
      "           m       0.72      0.97      0.83      1544\n",
      "\n",
      "    accuracy                           0.71      2157\n",
      "   macro avg       0.57      0.51      0.47      2157\n",
      "weighted avg       0.64      0.71      0.62      2157\n",
      "\n"
     ]
    }
   ],
   "source": [
    "DTmodel = DecisionTreeClassifier()\n",
    "\n",
    "DTmodel.fit(X_train_scaled, y_train)\n",
    "\n",
    "training_accuracy = DTmodel.score(X_train_scaled, y_train)\n",
    "\n",
    "print(\"The accuracy of model on training data is: {}%\".format(round(training_accuracy, 2) *100))\n",
    "print()\n",
    "\n",
    "predictions = DTmodel.predict(X_test_scaled)\n",
    "\n",
    "print(classification_report(y_test, predictions))\n",
    "\n",
    "#print(DTmodel.get_depth())"
   ]
  },
  {
   "cell_type": "markdown",
   "metadata": {},
   "source": [
    "#### Support Vector Machine"
   ]
  },
  {
   "cell_type": "code",
   "execution_count": 102,
   "metadata": {},
   "outputs": [
    {
     "name": "stdout",
     "output_type": "stream",
     "text": [
      "The accuracy of model on training data is: 73.0%\n",
      "\n",
      "              precision    recall  f1-score   support\n",
      "\n",
      "           f       0.25      0.00      0.00       613\n",
      "           m       0.72      1.00      0.83      1544\n",
      "\n",
      "    accuracy                           0.71      2157\n",
      "   macro avg       0.48      0.50      0.42      2157\n",
      "weighted avg       0.58      0.71      0.60      2157\n",
      "\n"
     ]
    }
   ],
   "source": [
    "SVCmodel = SVC(kernel = 'linear', C = 1)\n",
    "\n",
    "SVCmodel.fit(X_train_scaled, y_train)\n",
    "\n",
    "training_accuracy = SVCmodel.score(X_train_scaled, y_train)\n",
    "\n",
    "print(\"The accuracy of model on training data is: {}%\".format(round(training_accuracy, 2) *100))\n",
    "print()\n",
    "\n",
    "predictions = SVCmodel.predict(X_test_scaled)\n",
    "\n",
    "print(classification_report(y_test, predictions))"
   ]
  },
  {
   "cell_type": "markdown",
   "metadata": {},
   "source": [
    "This time the accuracy of all five models is approximately 72% which is very promising. We conclude that we can predict sex of the user with education level and income."
   ]
  },
  {
   "cell_type": "markdown",
   "metadata": {},
   "source": [
    "### Question 6: Can we predict education level with essay text word counts?"
   ]
  },
  {
   "cell_type": "markdown",
   "metadata": {},
   "source": [
    "Before finding the essay text word counts 'essay_len' and 'avg_word_len', we have to clean the text.For this purpose I write a cleanText method."
   ]
  },
  {
   "cell_type": "code",
   "execution_count": 7,
   "metadata": {},
   "outputs": [],
   "source": [
    "import string\n",
    "from html.parser import HTMLParser\n",
    "\n",
    "#<.*?>\n",
    "#r'<[^>]+>'\n",
    "TAG_RE = re.compile(r'<.*?>')\n",
    "def remove_tags(dirty_string):\n",
    "    return re.sub(TAG_RE, '', dirty_string)\n",
    "\n",
    "\n",
    "def cleanText(dirty_text):\n",
    "    #Removing URLs and Hashtags\n",
    "    # remove hyperlinks\n",
    "    text = re.sub(r'https?:\\/\\/.\\S+', \"\", dirty_text)\n",
    "    # remove hashtags\n",
    "    text = re.sub(r'#', '', text)\n",
    "    # remove html tags from text\n",
    "    text = remove_tags(text)\n",
    "    # removing HTML characters\n",
    "    text = HTMLParser().unescape(text)\n",
    "    #remove punctuation marks from the text\n",
    "    for c in string.punctuation:\n",
    "        if c in text:\n",
    "            text = text.replace(c, \"\")\n",
    "    return text"
   ]
  },
  {
   "cell_type": "code",
   "execution_count": 8,
   "metadata": {
    "scrolled": true
   },
   "outputs": [],
   "source": [
    "all_data = df\n",
    "\n",
    "essay_cols = [\"essay0\",\"essay1\",\"essay2\",\"essay3\",\"essay4\",\"essay5\",\"essay6\",\"essay7\",\"essay8\",\"essay9\"]\n",
    "\n",
    "# Removing the NaNs\n",
    "all_essays = all_data[essay_cols].replace(np.nan, '', regex=True)\n",
    "\n",
    "# Combining the essays\n",
    "all_essays = all_essays[essay_cols].apply(lambda x: ' '.join(x), axis=1)\n",
    "\n",
    "#clean the dirty text from hyperlinks, punctuation and html tags\n",
    "all_data[\"all_essays_cleaned_text\"] = all_essays.apply(cleanText)\n",
    "\n",
    "#compute the length of each essay and save them on a new column\n",
    "all_data[\"essay_len\"] = all_data[\"all_essays_cleaned_text\"].apply(lambda x: len(x))\n",
    "\n",
    "#count the number of words in each essay\n",
    "all_data[\"word_count\"] =  all_data[\"all_essays_cleaned_text\"].apply(lambda x: len(x.split())) \n",
    "\n",
    "#compute the avrage length of each word\n",
    "#all_data[\"avg_word_len\"] = all_data['essay_len'] / all_data['word_count']\n",
    "\n",
    "all_data[\"avg_word_len\"] = all_data.apply(lambda row: 0 if row.word_count==0 else (row.essay_len/row.word_count), axis = 1)\n",
    "\n",
    "#count the number of \"i\" or \"me\" occurances in the essay text of each user\n",
    "all_data[\"i_or_me_count\"] = all_data[\"all_essays_cleaned_text\"].apply(lambda x: x.split().count('i') + x.split().count('me'))"
   ]
  },
  {
   "cell_type": "code",
   "execution_count": 9,
   "metadata": {},
   "outputs": [
    {
     "name": "stdout",
     "output_type": "stream",
     "text": [
      "(53318, 2)\n"
     ]
    },
    {
     "data": {
      "text/html": [
       "<div>\n",
       "<style scoped>\n",
       "    .dataframe tbody tr th:only-of-type {\n",
       "        vertical-align: middle;\n",
       "    }\n",
       "\n",
       "    .dataframe tbody tr th {\n",
       "        vertical-align: top;\n",
       "    }\n",
       "\n",
       "    .dataframe thead th {\n",
       "        text-align: right;\n",
       "    }\n",
       "</style>\n",
       "<table border=\"1\" class=\"dataframe\">\n",
       "  <thead>\n",
       "    <tr style=\"text-align: right;\">\n",
       "      <th></th>\n",
       "      <th>education</th>\n",
       "      <th>word_count</th>\n",
       "    </tr>\n",
       "  </thead>\n",
       "  <tbody>\n",
       "    <tr>\n",
       "      <th>0</th>\n",
       "      <td>working on college/university</td>\n",
       "      <td>450</td>\n",
       "    </tr>\n",
       "    <tr>\n",
       "      <th>1</th>\n",
       "      <td>working on space camp</td>\n",
       "      <td>265</td>\n",
       "    </tr>\n",
       "    <tr>\n",
       "      <th>2</th>\n",
       "      <td>graduated from masters program</td>\n",
       "      <td>856</td>\n",
       "    </tr>\n",
       "    <tr>\n",
       "      <th>3</th>\n",
       "      <td>working on college/university</td>\n",
       "      <td>66</td>\n",
       "    </tr>\n",
       "    <tr>\n",
       "      <th>4</th>\n",
       "      <td>graduated from college/university</td>\n",
       "      <td>101</td>\n",
       "    </tr>\n",
       "    <tr>\n",
       "      <th>5</th>\n",
       "      <td>graduated from college/university</td>\n",
       "      <td>411</td>\n",
       "    </tr>\n",
       "    <tr>\n",
       "      <th>6</th>\n",
       "      <td>graduated from college/university</td>\n",
       "      <td>337</td>\n",
       "    </tr>\n",
       "    <tr>\n",
       "      <th>7</th>\n",
       "      <td>graduated from college/university</td>\n",
       "      <td>176</td>\n",
       "    </tr>\n",
       "    <tr>\n",
       "      <th>8</th>\n",
       "      <td>graduated from college/university</td>\n",
       "      <td>354</td>\n",
       "    </tr>\n",
       "    <tr>\n",
       "      <th>9</th>\n",
       "      <td>working on two-year college</td>\n",
       "      <td>400</td>\n",
       "    </tr>\n",
       "  </tbody>\n",
       "</table>\n",
       "</div>"
      ],
      "text/plain": [
       "                           education  word_count\n",
       "0      working on college/university         450\n",
       "1              working on space camp         265\n",
       "2     graduated from masters program         856\n",
       "3      working on college/university          66\n",
       "4  graduated from college/university         101\n",
       "5  graduated from college/university         411\n",
       "6  graduated from college/university         337\n",
       "7  graduated from college/university         176\n",
       "8  graduated from college/university         354\n",
       "9        working on two-year college         400"
      ]
     },
     "execution_count": 9,
     "metadata": {},
     "output_type": "execute_result"
    }
   ],
   "source": [
    "#create copy of dataframe to do the changes only to a copy of data\n",
    "df_copy6 = all_data\n",
    "\n",
    "selected_features = ['education', 'word_count']\n",
    "\n",
    "df_copy6 = df_copy6[selected_features].dropna()\n",
    "\n",
    "print(df_copy6.shape)\n",
    "\n",
    "df_copy6.head(10)"
   ]
  },
  {
   "cell_type": "code",
   "execution_count": 10,
   "metadata": {},
   "outputs": [],
   "source": [
    "#Y is the response variable, X is the predictor variable\n",
    "X = df_copy6[['word_count']]\n",
    "y = df_copy6['education']\n",
    "\n",
    "#Split the data into training set and test set\n",
    "X_train, X_test, y_train, y_test = train_test_split(X, y, test_size=0.2, random_state = 0)\n",
    "\n",
    "scaler = StandardScaler()\n",
    "#normalization\n",
    "#scaler = MinMaxScaler()\n",
    "X_train_scaled = scaler.fit_transform(X_train) \n",
    "X_test_scaled = scaler.fit_transform(X_test)"
   ]
  },
  {
   "cell_type": "markdown",
   "metadata": {},
   "source": [
    "#### LogisticRegression"
   ]
  },
  {
   "cell_type": "code",
   "execution_count": 11,
   "metadata": {},
   "outputs": [
    {
     "name": "stdout",
     "output_type": "stream",
     "text": [
      "The accuracy of model on training data is: 45.0%\n",
      "\n",
      "                                   precision    recall  f1-score   support\n",
      "\n",
      "               college/university       0.00      0.00      0.00       173\n",
      "dropped out of college/university       1.00      0.01      0.01       181\n",
      "       dropped out of high school       0.00      0.00      0.00        20\n",
      "        dropped out of law school       0.00      0.00      0.00         1\n",
      "   dropped out of masters program       0.00      0.00      0.00        34\n",
      "        dropped out of med school       0.00      0.00      0.00         2\n",
      "      dropped out of ph.d program       0.00      0.00      0.00        20\n",
      "        dropped out of space camp       0.00      0.00      0.00        98\n",
      "  dropped out of two-year college       0.00      0.00      0.00        27\n",
      "graduated from college/university       0.45      1.00      0.62      4776\n",
      "       graduated from high school       0.00      0.00      0.00       310\n",
      "        graduated from law school       0.00      0.00      0.00       220\n",
      "   graduated from masters program       0.00      0.00      0.00      1808\n",
      "        graduated from med school       0.00      0.00      0.00        87\n",
      "      graduated from ph.d program       0.00      0.00      0.00       282\n",
      "        graduated from space camp       0.00      0.00      0.00       135\n",
      "  graduated from two-year college       0.00      0.00      0.00       291\n",
      "                      high school       0.00      0.00      0.00        20\n",
      "                       law school       0.00      0.00      0.00         5\n",
      "                  masters program       0.00      0.00      0.00        29\n",
      "                       med school       0.00      0.00      0.00         1\n",
      "                     ph.d program       0.00      0.00      0.00         7\n",
      "                       space camp       0.00      0.00      0.00        13\n",
      "                 two-year college       0.00      0.00      0.00        51\n",
      "    working on college/university       0.00      0.00      0.00      1126\n",
      "           working on high school       0.00      0.00      0.00        14\n",
      "            working on law school       0.00      0.00      0.00        52\n",
      "       working on masters program       0.00      0.00      0.00       335\n",
      "            working on med school       0.00      0.00      0.00        48\n",
      "          working on ph.d program       0.00      0.00      0.00       197\n",
      "            working on space camp       0.00      0.00      0.00        97\n",
      "      working on two-year college       0.00      0.00      0.00       204\n",
      "\n",
      "                         accuracy                           0.45     10664\n",
      "                        macro avg       0.05      0.03      0.02     10664\n",
      "                     weighted avg       0.22      0.45      0.28     10664\n",
      "\n"
     ]
    }
   ],
   "source": [
    "logReg_model = LogisticRegression(multi_class= \"multinomial\")\n",
    "\n",
    "logReg_model.fit(X_train_scaled, y_train)\n",
    "\n",
    "training_accuracy = logReg_model.score(X_train_scaled, y_train)\n",
    "\n",
    "print(\"The accuracy of model on training data is: {}%\".format(round(training_accuracy, 2) *100))\n",
    "print()\n",
    "\n",
    "predictions = logReg_model.predict(X_test_scaled)\n",
    "\n",
    "print(classification_report(y_test, predictions))"
   ]
  },
  {
   "cell_type": "markdown",
   "metadata": {},
   "source": [
    "#### SVC"
   ]
  },
  {
   "cell_type": "code",
   "execution_count": 13,
   "metadata": {},
   "outputs": [
    {
     "name": "stdout",
     "output_type": "stream",
     "text": [
      "The accuracy of model on training data is: 45.0%\n",
      "\n",
      "                                   precision    recall  f1-score   support\n",
      "\n",
      "               college/university       0.00      0.00      0.00       173\n",
      "dropped out of college/university       0.00      0.00      0.00       181\n",
      "       dropped out of high school       0.00      0.00      0.00        20\n",
      "        dropped out of law school       0.00      0.00      0.00         1\n",
      "   dropped out of masters program       0.00      0.00      0.00        34\n",
      "        dropped out of med school       0.00      0.00      0.00         2\n",
      "      dropped out of ph.d program       0.00      0.00      0.00        20\n",
      "        dropped out of space camp       0.00      0.00      0.00        98\n",
      "  dropped out of two-year college       0.00      0.00      0.00        27\n",
      "graduated from college/university       0.45      1.00      0.62      4776\n",
      "       graduated from high school       0.00      0.00      0.00       310\n",
      "        graduated from law school       0.00      0.00      0.00       220\n",
      "   graduated from masters program       0.00      0.00      0.00      1808\n",
      "        graduated from med school       0.00      0.00      0.00        87\n",
      "      graduated from ph.d program       0.00      0.00      0.00       282\n",
      "        graduated from space camp       0.00      0.00      0.00       135\n",
      "  graduated from two-year college       0.00      0.00      0.00       291\n",
      "                      high school       0.00      0.00      0.00        20\n",
      "                       law school       0.00      0.00      0.00         5\n",
      "                  masters program       0.00      0.00      0.00        29\n",
      "                       med school       0.00      0.00      0.00         1\n",
      "                     ph.d program       0.00      0.00      0.00         7\n",
      "                       space camp       0.00      0.00      0.00        13\n",
      "                 two-year college       0.00      0.00      0.00        51\n",
      "    working on college/university       0.00      0.00      0.00      1126\n",
      "           working on high school       0.00      0.00      0.00        14\n",
      "            working on law school       0.00      0.00      0.00        52\n",
      "       working on masters program       0.00      0.00      0.00       335\n",
      "            working on med school       0.00      0.00      0.00        48\n",
      "          working on ph.d program       0.00      0.00      0.00       197\n",
      "            working on space camp       0.00      0.00      0.00        97\n",
      "      working on two-year college       0.00      0.00      0.00       204\n",
      "\n",
      "                         accuracy                           0.45     10664\n",
      "                        macro avg       0.01      0.03      0.02     10664\n",
      "                     weighted avg       0.20      0.45      0.28     10664\n",
      "\n"
     ]
    }
   ],
   "source": [
    "SVCmodel = SVC(kernel = 'linear', C = 1)\n",
    "\n",
    "SVCmodel.fit(X_train_scaled, y_train)\n",
    "\n",
    "training_accuracy = SVCmodel.score(X_train_scaled, y_train)\n",
    "\n",
    "print(\"The accuracy of model on training data is: {}%\".format(round(training_accuracy, 2) *100))\n",
    "print()\n",
    "\n",
    "predictions = SVCmodel.predict(X_test_scaled)\n",
    "\n",
    "print(classification_report(y_test, predictions))"
   ]
  },
  {
   "cell_type": "markdown",
   "metadata": {},
   "source": [
    "#### Decision Tree Classifier"
   ]
  },
  {
   "cell_type": "code",
   "execution_count": 14,
   "metadata": {},
   "outputs": [
    {
     "name": "stdout",
     "output_type": "stream",
     "text": [
      "The accuracy of model on training data is: 46.0%\n",
      "\n",
      "                                   precision    recall  f1-score   support\n",
      "\n",
      "               college/university       0.00      0.00      0.00       173\n",
      "dropped out of college/university       0.03      0.01      0.01       181\n",
      "       dropped out of high school       0.00      0.00      0.00        20\n",
      "        dropped out of law school       0.00      0.00      0.00         1\n",
      "   dropped out of masters program       0.00      0.00      0.00        34\n",
      "        dropped out of med school       0.00      0.00      0.00         2\n",
      "      dropped out of ph.d program       0.00      0.00      0.00        20\n",
      "        dropped out of space camp       0.00      0.00      0.00        98\n",
      "  dropped out of two-year college       0.00      0.00      0.00        27\n",
      "graduated from college/university       0.45      0.98      0.62      4776\n",
      "       graduated from high school       0.00      0.00      0.00       310\n",
      "        graduated from law school       0.00      0.00      0.00       220\n",
      "   graduated from masters program       0.15      0.01      0.02      1808\n",
      "        graduated from med school       0.00      0.00      0.00        87\n",
      "      graduated from ph.d program       0.00      0.00      0.00       282\n",
      "        graduated from space camp       0.00      0.00      0.00       135\n",
      "  graduated from two-year college       0.00      0.00      0.00       291\n",
      "                      high school       0.00      0.00      0.00        20\n",
      "                       law school       0.00      0.00      0.00         5\n",
      "                  masters program       0.00      0.00      0.00        29\n",
      "                       med school       0.00      0.00      0.00         1\n",
      "                     ph.d program       0.00      0.00      0.00         7\n",
      "                       space camp       0.00      0.00      0.00        13\n",
      "                 two-year college       0.00      0.00      0.00        51\n",
      "    working on college/university       0.12      0.00      0.01      1126\n",
      "           working on high school       0.00      0.00      0.00        14\n",
      "            working on law school       0.00      0.00      0.00        52\n",
      "       working on masters program       0.00      0.00      0.00       335\n",
      "            working on med school       0.00      0.00      0.00        48\n",
      "          working on ph.d program       0.00      0.00      0.00       197\n",
      "            working on space camp       0.00      0.00      0.00        97\n",
      "      working on two-year college       0.00      0.00      0.00       204\n",
      "\n",
      "                         accuracy                           0.44     10664\n",
      "                        macro avg       0.02      0.03      0.02     10664\n",
      "                     weighted avg       0.24      0.44      0.28     10664\n",
      "\n"
     ]
    }
   ],
   "source": [
    "DTmodel = DecisionTreeClassifier()\n",
    "\n",
    "DTmodel.fit(X_train_scaled, y_train)\n",
    "\n",
    "training_accuracy = DTmodel.score(X_train_scaled, y_train)\n",
    "\n",
    "print(\"The accuracy of model on training data is: {}%\".format(round(training_accuracy, 2) *100))\n",
    "print()\n",
    "\n",
    "predictions = DTmodel.predict(X_test_scaled)\n",
    "\n",
    "print(classification_report(y_test, predictions))\n"
   ]
  },
  {
   "cell_type": "markdown",
   "metadata": {},
   "source": [
    "By using classification techniques, we get low accuracy(under 45%). So we cannot use essay text word count to predict education level."
   ]
  },
  {
   "cell_type": "markdown",
   "metadata": {},
   "source": [
    "### Question 7: Can we predict income with length of essays and average word length?"
   ]
  },
  {
   "cell_type": "markdown",
   "metadata": {},
   "source": [
    "Use Regression Techniques: Multiple Linear Regression "
   ]
  },
  {
   "cell_type": "code",
   "execution_count": 111,
   "metadata": {},
   "outputs": [
    {
     "name": "stdout",
     "output_type": "stream",
     "text": [
      "(11504, 3)\n"
     ]
    },
    {
     "data": {
      "text/html": [
       "<div>\n",
       "<style scoped>\n",
       "    .dataframe tbody tr th:only-of-type {\n",
       "        vertical-align: middle;\n",
       "    }\n",
       "\n",
       "    .dataframe tbody tr th {\n",
       "        vertical-align: top;\n",
       "    }\n",
       "\n",
       "    .dataframe thead th {\n",
       "        text-align: right;\n",
       "    }\n",
       "</style>\n",
       "<table border=\"1\" class=\"dataframe\">\n",
       "  <thead>\n",
       "    <tr style=\"text-align: right;\">\n",
       "      <th></th>\n",
       "      <th>income</th>\n",
       "      <th>essay_len</th>\n",
       "      <th>avg_word_len</th>\n",
       "    </tr>\n",
       "  </thead>\n",
       "  <tbody>\n",
       "    <tr>\n",
       "      <th>1</th>\n",
       "      <td>80000.0</td>\n",
       "      <td>1340.0</td>\n",
       "      <td>5.056604</td>\n",
       "    </tr>\n",
       "    <tr>\n",
       "      <th>3</th>\n",
       "      <td>20000.0</td>\n",
       "      <td>426.0</td>\n",
       "      <td>6.454545</td>\n",
       "    </tr>\n",
       "    <tr>\n",
       "      <th>11</th>\n",
       "      <td>40000.0</td>\n",
       "      <td>4306.0</td>\n",
       "      <td>5.322621</td>\n",
       "    </tr>\n",
       "    <tr>\n",
       "      <th>13</th>\n",
       "      <td>30000.0</td>\n",
       "      <td>9.0</td>\n",
       "      <td>0.000000</td>\n",
       "    </tr>\n",
       "    <tr>\n",
       "      <th>14</th>\n",
       "      <td>50000.0</td>\n",
       "      <td>2360.0</td>\n",
       "      <td>5.425287</td>\n",
       "    </tr>\n",
       "    <tr>\n",
       "      <th>43</th>\n",
       "      <td>60000.0</td>\n",
       "      <td>6309.0</td>\n",
       "      <td>5.573322</td>\n",
       "    </tr>\n",
       "    <tr>\n",
       "      <th>48</th>\n",
       "      <td>1000000.0</td>\n",
       "      <td>3561.0</td>\n",
       "      <td>5.564063</td>\n",
       "    </tr>\n",
       "    <tr>\n",
       "      <th>66</th>\n",
       "      <td>20000.0</td>\n",
       "      <td>358.0</td>\n",
       "      <td>5.682540</td>\n",
       "    </tr>\n",
       "    <tr>\n",
       "      <th>72</th>\n",
       "      <td>150000.0</td>\n",
       "      <td>2350.0</td>\n",
       "      <td>6.250000</td>\n",
       "    </tr>\n",
       "    <tr>\n",
       "      <th>73</th>\n",
       "      <td>50000.0</td>\n",
       "      <td>2449.0</td>\n",
       "      <td>5.803318</td>\n",
       "    </tr>\n",
       "  </tbody>\n",
       "</table>\n",
       "</div>"
      ],
      "text/plain": [
       "       income  essay_len  avg_word_len\n",
       "1     80000.0     1340.0      5.056604\n",
       "3     20000.0      426.0      6.454545\n",
       "11    40000.0     4306.0      5.322621\n",
       "13    30000.0        9.0      0.000000\n",
       "14    50000.0     2360.0      5.425287\n",
       "43    60000.0     6309.0      5.573322\n",
       "48  1000000.0     3561.0      5.564063\n",
       "66    20000.0      358.0      5.682540\n",
       "72   150000.0     2350.0      6.250000\n",
       "73    50000.0     2449.0      5.803318"
      ]
     },
     "execution_count": 111,
     "metadata": {},
     "output_type": "execute_result"
    }
   ],
   "source": [
    "#create copy of dataframe to do the changes only to a copy of data\n",
    "df_copy7 = all_data\n",
    "\n",
    "selected_features = ['income', 'essay_len', 'avg_word_len']\n",
    "\n",
    "df_copy7[df_copy7.income==-1]= np.nan\n",
    "\n",
    "df_copy7 = df_copy7[selected_features].dropna()\n",
    "\n",
    "\n",
    "print(df_copy7.shape)\n",
    "\n",
    "df_copy7.head(10)"
   ]
  },
  {
   "cell_type": "code",
   "execution_count": 112,
   "metadata": {},
   "outputs": [],
   "source": [
    "#Y is the response variable, X has the predictor variables\n",
    "X = df_copy7[['essay_len', 'avg_word_len']]\n",
    "y = df_copy7['income']\n",
    "\n",
    "#Split the data into training set and test set\n",
    "X_train, X_test, y_train, y_test = train_test_split(X, y, test_size=0.2, random_state = 0)\n",
    "\n",
    "scaler = StandardScaler()\n",
    "#normalization\n",
    "#scaler = MinMaxScaler()\n",
    "X_train_scaled = scaler.fit_transform(X_train) \n",
    "X_test_scaled = scaler.fit_transform(X_test)"
   ]
  },
  {
   "cell_type": "code",
   "execution_count": 113,
   "metadata": {},
   "outputs": [
    {
     "name": "stdout",
     "output_type": "stream",
     "text": [
      "coeficient for linear regression model is: [-2804.07693643  7212.31294077]\n",
      "intercept for our model is: 104476.80104313811\n",
      "\n",
      "mean_squared_error :  39831010759.83482\n",
      "mean_absolute_error :  91817.70266256887\n",
      "\n",
      "R2 value of our model is: 0.000778104015553116\n"
     ]
    }
   ],
   "source": [
    "# creating a regression model\n",
    "mlr = LinearRegression()\n",
    "\n",
    "# fitting the model with training data\n",
    "mlr.fit(X_train_scaled,y_train)\n",
    "\n",
    "print(f\"coeficient for linear regression model is: {mlr.coef_}\")\n",
    "print(f\"intercept for our model is: {mlr.intercept_}\")\n",
    "\n",
    "predictions = mlr.predict(X_test_scaled)\n",
    "\n",
    "print()\n",
    "# model evaluation\n",
    "print(\n",
    "  'mean_squared_error : ', mean_squared_error(y_test, predictions))\n",
    "print(\n",
    "  'mean_absolute_error : ', mean_absolute_error(y_test, predictions))\n",
    "print()\n",
    "\n",
    "r_squared = mlr.score(X_test_scaled, y_test)\n",
    "\n",
    "print(f\"R2 value of our model is: {r_squared}\")\n",
    "\n",
    "#df_copy7.income.describe()"
   ]
  },
  {
   "cell_type": "markdown",
   "metadata": {},
   "source": [
    "R-squared is the proportion of the variance in the response variable that can be explained by the predictor variables in a linear regression model.In our example R2 is very low(0.00078), so we can conclude that we cannot explain income(response variable) with length of essays and average word length(predictor variables).The mean_squared_error is very large too and this is another sign that this model does not perform good.\n",
    "\n"
   ]
  },
  {
   "cell_type": "markdown",
   "metadata": {},
   "source": [
    "### Question 8: Predict age with the frequency of “I” or “me” in essays?"
   ]
  },
  {
   "cell_type": "markdown",
   "metadata": {},
   "source": [
    "Use Regression Techniques\n",
    "\n"
   ]
  },
  {
   "cell_type": "markdown",
   "metadata": {},
   "source": [
    "#### Linear Regression Model"
   ]
  },
  {
   "cell_type": "code",
   "execution_count": 15,
   "metadata": {},
   "outputs": [
    {
     "name": "stdout",
     "output_type": "stream",
     "text": [
      "(59946, 2)\n"
     ]
    },
    {
     "data": {
      "text/html": [
       "<div>\n",
       "<style scoped>\n",
       "    .dataframe tbody tr th:only-of-type {\n",
       "        vertical-align: middle;\n",
       "    }\n",
       "\n",
       "    .dataframe tbody tr th {\n",
       "        vertical-align: top;\n",
       "    }\n",
       "\n",
       "    .dataframe thead th {\n",
       "        text-align: right;\n",
       "    }\n",
       "</style>\n",
       "<table border=\"1\" class=\"dataframe\">\n",
       "  <thead>\n",
       "    <tr style=\"text-align: right;\">\n",
       "      <th></th>\n",
       "      <th>age</th>\n",
       "      <th>i_or_me_count</th>\n",
       "    </tr>\n",
       "  </thead>\n",
       "  <tbody>\n",
       "    <tr>\n",
       "      <th>0</th>\n",
       "      <td>22</td>\n",
       "      <td>20</td>\n",
       "    </tr>\n",
       "    <tr>\n",
       "      <th>1</th>\n",
       "      <td>35</td>\n",
       "      <td>22</td>\n",
       "    </tr>\n",
       "    <tr>\n",
       "      <th>2</th>\n",
       "      <td>38</td>\n",
       "      <td>24</td>\n",
       "    </tr>\n",
       "    <tr>\n",
       "      <th>3</th>\n",
       "      <td>23</td>\n",
       "      <td>2</td>\n",
       "    </tr>\n",
       "    <tr>\n",
       "      <th>4</th>\n",
       "      <td>29</td>\n",
       "      <td>2</td>\n",
       "    </tr>\n",
       "    <tr>\n",
       "      <th>5</th>\n",
       "      <td>29</td>\n",
       "      <td>27</td>\n",
       "    </tr>\n",
       "    <tr>\n",
       "      <th>6</th>\n",
       "      <td>32</td>\n",
       "      <td>7</td>\n",
       "    </tr>\n",
       "    <tr>\n",
       "      <th>7</th>\n",
       "      <td>31</td>\n",
       "      <td>3</td>\n",
       "    </tr>\n",
       "    <tr>\n",
       "      <th>8</th>\n",
       "      <td>24</td>\n",
       "      <td>11</td>\n",
       "    </tr>\n",
       "    <tr>\n",
       "      <th>9</th>\n",
       "      <td>37</td>\n",
       "      <td>28</td>\n",
       "    </tr>\n",
       "  </tbody>\n",
       "</table>\n",
       "</div>"
      ],
      "text/plain": [
       "   age  i_or_me_count\n",
       "0   22             20\n",
       "1   35             22\n",
       "2   38             24\n",
       "3   23              2\n",
       "4   29              2\n",
       "5   29             27\n",
       "6   32              7\n",
       "7   31              3\n",
       "8   24             11\n",
       "9   37             28"
      ]
     },
     "execution_count": 15,
     "metadata": {},
     "output_type": "execute_result"
    }
   ],
   "source": [
    "#create copy of dataframe to do the changes only to a copy of data\n",
    "df_copy8 = all_data\n",
    "\n",
    "selected_features = ['age', 'i_or_me_count']\n",
    "\n",
    "df_copy8 = df_copy8[selected_features].dropna()\n",
    "\n",
    "\n",
    "print(df_copy8.shape)\n",
    "\n",
    "df_copy8.head(10)"
   ]
  },
  {
   "cell_type": "code",
   "execution_count": 16,
   "metadata": {},
   "outputs": [],
   "source": [
    "#Y is the response variable, X is predictor variable\n",
    "X = df_copy8[['i_or_me_count']]\n",
    "y = df_copy8['age']\n",
    "\n",
    "#Split the data into training set and test set\n",
    "X_train, X_test, y_train, y_test = train_test_split(X, y, test_size=0.2, random_state = 0)\n",
    "\n",
    "scaler = StandardScaler()\n",
    "#normalization\n",
    "#scaler = MinMaxScaler()\n",
    "X_train_scaled = scaler.fit_transform(X_train) \n",
    "X_test_scaled = scaler.fit_transform(X_test)"
   ]
  },
  {
   "cell_type": "code",
   "execution_count": 23,
   "metadata": {},
   "outputs": [
    {
     "name": "stdout",
     "output_type": "stream",
     "text": [
      "coeficient for linear regression model is: [0.5727514]\n",
      "intercept for our model is: 32.35130119276003\n",
      "\n",
      "mean_squared_error :  87.16646053154385\n",
      "mean_absolute_error :  7.160277076802092\n",
      "\n",
      "RMSE of linear regression model is: 9.336298010000744\n",
      "\n",
      "R2 value of our model is: 0.004232094036801692\n",
      "\n",
      "The runtime of linear regression model is: 0.00398 seconds\n"
     ]
    }
   ],
   "source": [
    "start_time = time.time()\n",
    "\n",
    "# creating a regression model\n",
    "lr_model = LinearRegression()\n",
    "\n",
    "# fitting the model with training data\n",
    "lr_model.fit(X_train_scaled,y_train)\n",
    "\n",
    "predictions = lr_model.predict(X_test_scaled)\n",
    "\n",
    "end_time = time.time()\n",
    "\n",
    "runtime =  end_time - start_time\n",
    "\n",
    "print(f\"coeficient for linear regression model is: {lr_model.coef_}\")\n",
    "print(f\"intercept for our model is: {lr_model.intercept_}\")\n",
    "\n",
    "print()\n",
    "# model evaluation\n",
    "print(\n",
    "  'mean_squared_error : ', mean_squared_error(y_test, predictions))\n",
    "print(\n",
    "  'mean_absolute_error : ', mean_absolute_error(y_test, predictions))\n",
    "print()\n",
    "\n",
    "rmse = np.sqrt(mean_squared_error(y_test, predictions))\n",
    "\n",
    "print(f\"RMSE of linear regression model is: {rmse}\")\n",
    "print()\n",
    "r_squared = lr_model.score(X_test_scaled, y_test)\n",
    "\n",
    "print(f\"R2 value of our model is: {r_squared}\")\n",
    "print()\n",
    "\n",
    "print(f\"The runtime of linear regression model is: {round(runtime, 5)} seconds\")"
   ]
  },
  {
   "cell_type": "markdown",
   "metadata": {},
   "source": [
    "We get a very low R2 value(0.00423).we can conclude that we cannot explain age(response variable) with number of “I” or “me” in essays(predictor variable). This linear model cannot predict age of the user based on frequency of “I” or “me” in his/her essays. The RMSE of the model is 9.34 years which is high and not acceptable."
   ]
  },
  {
   "cell_type": "markdown",
   "metadata": {},
   "source": [
    "#### KNeighbors Regressor"
   ]
  },
  {
   "cell_type": "code",
   "execution_count": 19,
   "metadata": {},
   "outputs": [
    {
     "name": "stdout",
     "output_type": "stream",
     "text": [
      "{'n_neighbors': 96, 'weights': 'uniform'}\n"
     ]
    }
   ],
   "source": [
    "from sklearn.neighbors import KNeighborsRegressor\n",
    "\n",
    "gridsearch = GridSearchCV(estimator=KNeighborsRegressor(),\n",
    "             param_grid={'n_neighbors':list(range(1, 100)),\n",
    "                         'weights': ['uniform', 'distance']})\n",
    "gridsearch.fit(X_train_scaled, y_train)\n",
    "\n",
    "print(gridsearch.best_params_)"
   ]
  },
  {
   "cell_type": "code",
   "execution_count": 24,
   "metadata": {},
   "outputs": [
    {
     "name": "stdout",
     "output_type": "stream",
     "text": [
      "\n",
      "mean_squared_error :  88.18806428136006\n",
      "mean_absolute_error :  7.15697021823742\n",
      "\n",
      "RMSE of knn model is: 9.390850029755564\n",
      "R2 value of our model is: -0.007438452415069907\n",
      "\n",
      "The runtime of KNeighbors Regressor model is: 0.46192 seconds\n"
     ]
    }
   ],
   "source": [
    "start_time = time.time()\n",
    "\n",
    "knn_model = KNeighborsRegressor(n_neighbors= 96, weights = 'uniform')\n",
    "\n",
    "knn_model.fit(X_train_scaled, y_train)\n",
    "\n",
    "predictions = knn_model.predict(X_test_scaled)\n",
    "\n",
    "end_time = time.time()\n",
    "\n",
    "runtime =  end_time - start_time\n",
    "\n",
    "print()\n",
    "# model evaluation\n",
    "print(\n",
    "  'mean_squared_error : ', mean_squared_error(y_test, predictions))\n",
    "print(\n",
    "  'mean_absolute_error : ', mean_absolute_error(y_test, predictions))\n",
    "print()\n",
    "\n",
    "rmse = np.sqrt(mean_squared_error(y_test, predictions))\n",
    "\n",
    "print(f\"RMSE of knn model is: {rmse}\")\n",
    "\n",
    "r_squared = knn_model.score(X_test_scaled, y_test)\n",
    "\n",
    "print(f\"R2 value of our model is: {r_squared}\")\n",
    "print()\n",
    "\n",
    "print(f\"The runtime of KNeighbors Regressor model is: {round(runtime, 5)} seconds\")"
   ]
  },
  {
   "cell_type": "markdown",
   "metadata": {},
   "source": [
    "We get negative R2 value(-0.00127). R2  is negative only when the chosen model does not follow the trend of the data, so fits worse than a horizontal line. KNN Regressor cannot predict age of the user based on frequency of “I” or “me” in his/her essays. The RMSE of the model is 9.39 years which is high and not acceptable."
   ]
  },
  {
   "cell_type": "markdown",
   "metadata": {},
   "source": [
    "By comparing these two regression models, we can see that linear regression is faster than KNN regressor and its R2 value is bigger too. Linear regression model outperforms KNeighborsRegressor a little."
   ]
  },
  {
   "cell_type": "markdown",
   "metadata": {},
   "source": [
    "## Conclusion"
   ]
  },
  {
   "cell_type": "markdown",
   "metadata": {},
   "source": [
    "- Most of the users are between 25 to 35 years old.\n",
    "- There are more male users than female users.\n",
    "- Males are taller than females.\n",
    "- We cannot predict Zodiac signs using 'body_type', 'diet', 'orientation', 'pets', 'religion_cleaned', 'sex', 'job', 'smokes_code', 'drinks_code' and 'drugs_code' features.\n",
    "- We cannot predict body type by using lifestyle information ('diet', 'smokes_code', 'drinks_code', 'drugs_code'), sex and age.\n",
    "- We can not predict the income of the user by making models based on his job, sex and education.\n",
    "- An accurate model can be built to predict the gender of an user based on their age and body type. I got 86% accuracy with SVM, Logistic Regression, Decision Tree and KNN models.\n",
    "- We can build good models with high accuracy(72%) to predict sex of an user with education level and income.\n",
    "- We cannot use essay text word count to predict education level.\n",
    "- we cannot predict income with length of essays and average word length.\n",
    "- We cannot predict age with the frequency of “I” or “me” in essays."
   ]
  }
 ],
 "metadata": {
  "kernelspec": {
   "display_name": "Python 3",
   "language": "python",
   "name": "python3"
  },
  "language_info": {
   "codemirror_mode": {
    "name": "ipython",
    "version": 3
   },
   "file_extension": ".py",
   "mimetype": "text/x-python",
   "name": "python",
   "nbconvert_exporter": "python",
   "pygments_lexer": "ipython3",
   "version": "3.8.0"
  }
 },
 "nbformat": 4,
 "nbformat_minor": 4
}
